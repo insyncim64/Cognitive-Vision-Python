{
 "cells": [
  {
   "cell_type": "markdown",
   "metadata": {
    "deletable": true,
    "editable": true
   },
   "source": [
    "# Handwriting OCR API example"
   ]
  },
  {
   "cell_type": "markdown",
   "metadata": {
    "deletable": true,
    "editable": true
   },
   "source": [
    "### This Jupyter notebook shows you how to get started with the Cognitive Service <b>Computer Vision Handwriting OCR API</b> in Python, and how to visualize your results."
   ]
  },
  {
   "cell_type": "markdown",
   "metadata": {
    "deletable": true,
    "editable": true
   },
   "source": [
    "To use this notebook, you will need to get keys to <b>Computer Vision API</b>. Visit <a href=\"https://www.microsoft.com/cognitive-services/en-us/computer-vision-api\">https://www.microsoft.com/cognitive-services/en-us/computer-vision-api</a>, and then the “Try for free” button. On the “Sign in” page, use your Microsoft account to sign in and you will be able to subscribe to Computer Vision API and get free keys (Code of Conduct and TOS). After completing the sign-up process, paste your key into the variables section below. (Either the primary or the secondary key works.)"
   ]
  },
  {
   "cell_type": "code",
   "execution_count": 1,
   "metadata": {
    "collapsed": true,
    "deletable": true,
    "editable": true
   },
   "outputs": [],
   "source": [
    "import time \n",
    "import requests\n",
    "import cv2\n",
    "import operator\n",
    "import numpy as np\n",
    "\n",
    "# Import library to display results\n",
    "import matplotlib.pyplot as plt\n",
    "from matplotlib.lines import Line2D\n",
    "%matplotlib inline \n",
    "# Display images within Jupyter"
   ]
  },
  {
   "cell_type": "code",
   "execution_count": 2,
   "metadata": {
    "collapsed": true,
    "deletable": true,
    "editable": true
   },
   "outputs": [],
   "source": [
    "# Variables\n",
    "\n",
    "_url = 'https://api.cognitive.azure.cn/vision/v1.0/ocr?language=zh-Hans&detectOrientation=true'\n",
    "_key = None  #Here you have to paste your primary key\n",
    "_key = \"2e91458c4db94345899fb3669f1a93a2\" #Here you have to paste your primary key\n",
    "_maxNumRetries = 10"
   ]
  },
  {
   "cell_type": "markdown",
   "metadata": {
    "deletable": true,
    "editable": true
   },
   "source": [
    "# Helper functions"
   ]
  },
  {
   "cell_type": "code",
   "execution_count": 3,
   "metadata": {
    "collapsed": true,
    "deletable": true,
    "editable": true
   },
   "outputs": [],
   "source": [
    "def processRequest( json, data, headers, params ):\n",
    "\n",
    "    \"\"\"\n",
    "    Helper function to process the request to Project Oxford\n",
    "\n",
    "    Parameters:\n",
    "    json: Used when processing images from its URL. See API Documentation\n",
    "    data: Used when processing image read from disk. See API Documentation\n",
    "    headers: Used to pass the key information and the data type request\n",
    "    \"\"\"\n",
    "\n",
    "    retries = 0\n",
    "    result = None\n",
    "\n",
    "    while True:\n",
    "        response = requests.request( 'post', _url, json = json, data = data, headers = headers, params = params )\n",
    "\n",
    "        if response.status_code == 429:\n",
    "            print( \"Message: %s\" % ( response.json() ) )\n",
    "            if retries <= _maxNumRetries: \n",
    "                time.sleep(1) \n",
    "                retries += 1\n",
    "                continue\n",
    "            else: \n",
    "                print( 'Error: failed after retrying!' )\n",
    "                break\n",
    "        elif response.status_code == 202:\n",
    "            result = response.headers['Operation-Location']\n",
    "        else:\n",
    "            print( \"Error code: %d\" % ( response.status_code ) )\n",
    "            print( \"Message: %s\" % ( response.json() ) )\n",
    "        break\n",
    "        \n",
    "    return result"
   ]
  },
  {
   "cell_type": "code",
   "execution_count": 4,
   "metadata": {
    "collapsed": true,
    "deletable": true,
    "editable": true
   },
   "outputs": [],
   "source": [
    "def getOCRTextResult( operationLocation, headers ):\n",
    "    \"\"\"\n",
    "    Helper function to get text result from operation location\n",
    "\n",
    "    Parameters:\n",
    "    operationLocation: operationLocation to get text result, See API Documentation\n",
    "    headers: Used to pass the key information\n",
    "    \"\"\"\n",
    "\n",
    "    retries = 0\n",
    "    result = None\n",
    "\n",
    "    while True:\n",
    "        response = requests.request('get', operationLocation, json=None, data=None, headers=headers, params=None)\n",
    "        if response.status_code == 429:\n",
    "            print(\"Message: %s\" % (response.json()))\n",
    "            if retries <= _maxNumRetries:\n",
    "                time.sleep(1)\n",
    "                retries += 1\n",
    "                continue\n",
    "            else:\n",
    "                print('Error: failed after retrying!')\n",
    "                break\n",
    "        elif response.status_code == 200:\n",
    "            result = response.json()\n",
    "        else:\n",
    "            print(\"Error code: %d\" % (response.status_code))\n",
    "            print(\"Message: %s\" % (response.json()))\n",
    "        break\n",
    "\n",
    "    return result"
   ]
  },
  {
   "cell_type": "code",
   "execution_count": 5,
   "metadata": {
    "collapsed": true,
    "deletable": true,
    "editable": true
   },
   "outputs": [],
   "source": [
    "def showResultOnImage( result, img ):\n",
    "    \n",
    "    \"\"\"Display the obtained results onto the input image\"\"\"\n",
    "    img = img[:, :, (2, 1, 0)]\n",
    "    fig, ax = plt.subplots(figsize=(12, 12))\n",
    "    ax.imshow(img, aspect='equal')\n",
    "\n",
    "    lines = result['recognitionResult']['lines']\n",
    "\n",
    "    for i in range(len(lines)):\n",
    "        words = lines[i]['words']\n",
    "        for j in range(len(words)):\n",
    "            tl = (words[j]['boundingBox'][0], words[j]['boundingBox'][1])\n",
    "            tr = (words[j]['boundingBox'][2], words[j]['boundingBox'][3])\n",
    "            br = (words[j]['boundingBox'][4], words[j]['boundingBox'][5])\n",
    "            bl = (words[j]['boundingBox'][6], words[j]['boundingBox'][7])\n",
    "            text = words[j]['text']\n",
    "            x = [tl[0], tr[0], tr[0], br[0], br[0], bl[0], bl[0], tl[0]]\n",
    "            y = [tl[1], tr[1], tr[1], br[1], br[1], bl[1], bl[1], tl[1]]\n",
    "            line = Line2D(x, y, linewidth=3.5, color='red')\n",
    "            ax.add_line(line)\n",
    "            ax.text(tl[0], tl[1] - 2, '{:s}'.format(text),\n",
    "            bbox=dict(facecolor='blue', alpha=0.5),\n",
    "            fontsize=14, color='white')\n",
    "\n",
    "    plt.axis('off')\n",
    "    plt.tight_layout()\n",
    "    plt.draw()\n",
    "    plt.show()"
   ]
  },
  {
   "cell_type": "markdown",
   "metadata": {
    "deletable": true,
    "editable": true
   },
   "source": [
    "# Analysis of an image stored on disk"
   ]
  },
  {
   "cell_type": "code",
   "execution_count": 6,
   "metadata": {
    "collapsed": false,
    "deletable": true,
    "editable": true
   },
   "outputs": [
    {
     "name": "stdout",
     "output_type": "stream",
     "text": [
      "Error code: 401\n",
      "Message: {u'message': u'Access denied due to invalid subscription key. Make sure to provide a valid key for an active subscription.', u'statusCode': 401}\n"
     ]
    }
   ],
   "source": [
    "# Load raw image file into memory\n",
    "pathToFileInDisk = r'/Users/h177954/Downloads/IMG_6431.JPG'\n",
    "with open(pathToFileInDisk, 'rb') as f:\n",
    "    data = f.read()\n",
    "\n",
    "# Computer Vision parameters\n",
    "params = {'handwriting' : 'true'}\n",
    "\n",
    "headers = dict()\n",
    "headers['Ocp-Apim-Subscription-Key'] = _key\n",
    "headers['Content-Type'] = 'application/octet-stream'\n",
    "\n",
    "json = None\n",
    "\n",
    "operationLocation = processRequest(json, data, headers, params)\n",
    "\n",
    "result = None\n",
    "if (operationLocation != None):\n",
    "    headers = {}\n",
    "    headers['Ocp-Apim-Subscription-Key'] = _key\n",
    "    while True:\n",
    "        time.sleep(1)\n",
    "        result = getOCRTextResult(operationLocation, headers)\n",
    "        if result['status'] == 'Succeeded' or result['status'] == 'Failed':\n",
    "            break\n",
    "\n",
    "# Load the original image, fetched from the URL\n",
    "if result is not None and result['status'] == 'Succeeded':\n",
    "    data8uint = np.fromstring(data, np.uint8)  # Convert string to an unsigned int array\n",
    "    img = cv2.cvtColor(cv2.imdecode(data8uint, cv2.IMREAD_COLOR), cv2.COLOR_BGR2RGB)\n",
    "    showResultOnImage(result, img)"
   ]
  },
  {
   "cell_type": "markdown",
   "metadata": {
    "deletable": true,
    "editable": true
   },
   "source": [
    "# Analysis of an image retrieved via URL"
   ]
  },
  {
   "cell_type": "code",
   "execution_count": 27,
   "metadata": {
    "collapsed": false,
    "deletable": true,
    "editable": true
   },
   "outputs": [
    {
     "name": "stdout",
     "output_type": "stream",
     "text": [
      "Error code: 200\n",
      "Message: {u'regions': [{u'boundingBox': u'28,36,480,62', u'lines': [{u'boundingBox': u'496,36,12,13', u'words': [{u'boundingBox': u'496,36,12,13', u'text': u'0'}]}, {u'boundingBox': u'60,37,75,15', u'words': [{u'boundingBox': u'60,37,75,15', u'text': u'EXPRESS'}]}, {u'boundingBox': u'80,54,54,15', u'words': [{u'boundingBox': u'80,54,13,15', u'text': u'\\u97ed'}, {u'boundingBox': u'119,55,15,14', u'text': u'\\u8fd0'}]}, {u'boundingBox': u'496,83,12,13', u'words': [{u'boundingBox': u'496,83,12,13', u'text': u'0'}]}, {u'boundingBox': u'28,84,238,14', u'words': [{u'boundingBox': u'28,84,15,8', u'text': u'\\u201c'}, {u'boundingBox': u'62,84,15,8', u'text': u'\\u201c'}, {u'boundingBox': u'78,84,16,8', u'text': u'\\u201c'}, {u'boundingBox': u'112,84,7,7', u'text': u'\\u3002'}, {u'boundingBox': u'121,84,15,7', u'text': u'\\u201c'}, {u'boundingBox': u'139,84,47,14', u'text': u'4008'}, {u'boundingBox': u'194,84,30,14', u'text': u'111'}, {u'boundingBox': u'235,84,7,14', u'text': u'1'}, {u'boundingBox': u'247,84,7,14', u'text': u'1'}, {u'boundingBox': u'259,84,7,14', u'text': u'1'}]}]}, {u'boundingBox': u'1,124,159,25', u'lines': [{u'boundingBox': u'1,124,159,11', u'words': [{u'boundingBox': u'1,124,12,11', u'text': u'O'}, {u'boundingBox': u'15,125,8,9', u'text': u'\\u755c'}, {u'boundingBox': u'25,125,9,9', u'text': u'\\u4ef6'}, {u'boundingBox': u'36,125,8,9', u'text': u'\\u4eba'}, {u'boundingBox': u'69,125,36,9', u'text': u'Shipper'}, {u'boundingBox': u'109,125,51,7', u'text': u'informatio'}]}, {u'boundingBox': u'6,141,40,8', u'words': [{u'boundingBox': u'6,141,8,8', u'text': u'\\u8317'}, {u'boundingBox': u'17,141,7,8', u'text': u'\\u6237'}, {u'boundingBox': u'27,141,9,8', u'text': u'0'}, {u'boundingBox': u'37,141,9,8', u'text': u'\\u9f77'}]}]}, {u'boundingBox': u'206,112,242,23', u'lines': [{u'boundingBox': u'206,112,59,7', u'words': [{u'boundingBox': u'206,112,5,7', u'text': u'8'}, {u'boundingBox': u'213,112,12,7', u'text': u'31'}, {u'boundingBox': u'239,112,4,7', u'text': u'1'}, {u'boundingBox': u'247,112,4,7', u'text': u'1'}, {u'boundingBox': u'254,112,4,7', u'text': u'1'}, {u'boundingBox': u'261,112,4,7', u'text': u'1'}]}, {u'boundingBox': u'317,123,131,12', u'words': [{u'boundingBox': u'317,123,12,12', u'text': u'9'}, {u'boundingBox': u'342,125,8,9', u'text': u'\\u52a1'}, {u'boundingBox': u'363,125,8,9', u'text': u'\\u751f'}, {u'boundingBox': u'378,125,45,9', u'text': u'Shipment'}, {u'boundingBox': u'426,125,22,9', u'text': u'Type'}]}]}, {u'boundingBox': u'521,63,112,149', u'lines': [{u'boundingBox': u'521,63,111,11', u'words': [{u'boundingBox': u'521,63,6,11', u'text': u'\\uff08'}, {u'boundingBox': u'527,63,5,11', u'text': u'\\uff09'}, {u'boundingBox': u'535,64,9,9', u'text': u'\\u5730'}, {u'boundingBox': u'556,64,8,8', u'text': u'\\u4ee3'}, {u'boundingBox': u'566,64,8,8', u'text': u'\\u9a55'}, {u'boundingBox': u'580,65,23,7', u'text': u'Arco'}, {u'boundingBox': u'614,67,5,5', u'text': u'0'}, {u'boundingBox': u'621,65,5,7', u'text': u'd'}, {u'boundingBox': u'628,67,4,5', u'text': u'c'}]}, {u'boundingBox': u'545,79,88,10', u'words': [{u'boundingBox': u'545,80,9,9', u'text': u'\\u5730'}, {u'boundingBox': u'558,80,5,7', u'text': u'0'}, {u'boundingBox': u'586,79,7,9', u'text': u'0'}, {u'boundingBox': u'595,79,9,9', u'text': u'\\u7684'}, {u'boundingBox': u'617,80,5,7', u'text': u'0'}, {u'boundingBox': u'623,81,10,6', u'text': u'\\u201c'}]}, {u'boundingBox': u'567,140,65,19', u'words': [{u'boundingBox': u'567,141,8,9', u'text': u'\\u53ef'}, {u'boundingBox': u'579,140,5,19', u'text': u'['}, {u'boundingBox': u'585,140,10,19', u'text': u'\\u4e8c'}, {u'boundingBox': u'596,140,3,19', u'text': u']'}, {u'boundingBox': u'602,141,9,9', u'text': u'\\u6536'}, {u'boundingBox': u'612,141,9,9', u'text': u'\\u65b9'}, {u'boundingBox': u'623,141,9,9', u'text': u'\\u5fd6'}]}, {u'boundingBox': u'545,152,29,8', u'words': [{u'boundingBox': u'545,152,4,7', u'text': u'\\u5b53'}, {u'boundingBox': u'549,153,7,6', u'text': u'\\u679e'}, {u'boundingBox': u'557,154,4,6', u'text': u'0'}, {u'boundingBox': u'562,154,8,6', u'text': u'\\u4ee5'}, {u'boundingBox': u'571,154,3,5', u'text': u'\\uff0c'}]}, {u'boundingBox': u'534,203,96,9', u'words': [{u'boundingBox': u'534,203,9,9', u'text': u'\\u4e09'}, {u'boundingBox': u'544,203,9,9', u'text': u'\\u65b9'}, {u'boundingBox': u'555,203,8,9', u'text': u'\\u5fd6'}, {u'boundingBox': u'586,203,8,9', u'text': u'\\u533a'}, {u'boundingBox': u'619,203,5,7', u'text': u'\\uff08'}, {u'boundingBox': u'625,205,5,5', u'text': u'\\u3002'}]}]}, {u'boundingBox': u'636,124,72,26', u'lines': [{u'boundingBox': u'636,124,33,10', u'words': [{u'boundingBox': u'636,124,33,10', u'text': u'\\u2022:harge'}]}, {u'boundingBox': u'678,141,30,9', u'words': [{u'boundingBox': u'678,141,9,9', u'text': u'\\u4e09'}, {u'boundingBox': u'689,141,8,9', u'text': u'\\u65b9'}, {u'boundingBox': u'700,141,8,9', u'text': u'\\u5fd6'}]}]}, {u'boundingBox': u'29,148,426,70', u'lines': [{u'boundingBox': u'42,148,182,19', u'words': [{u'boundingBox': u'42,160,4,5', u'text': u'\\u3002'}, {u'boundingBox': u'47,148,17,19', u'text': u'\\u767e'}, {u'boundingBox': u'68,148,18,19', u'text': u'\\u5e74'}, {u'boundingBox': u'89,148,17,19', u'text': u'\\u6cf8'}, {u'boundingBox': u'107,165,5,2', u'text': u'\\u201c'}, {u'boundingBox': u'133,148,16,19', u'text': u'\\u8001'}, {u'boundingBox': u'151,148,17,19', u'text': u'\\u7592'}, {u'boundingBox': u'178,148,11,5', u'text': u'\\u4e00'}, {u'boundingBox': u'217,162,7,5', u'text': u'\\u3001'}]}, {u'boundingBox': u'319,157,35,15', u'words': [{u'boundingBox': u'319,157,13,13', u'text': u'\\u56d7'}, {u'boundingBox': u'335,157,16,15', u'text': u'\\u965b'}, {u'boundingBox': u'351,166,3,5', u'text': u'\\u3002'}]}, {u'boundingBox': u'317,176,138,12', u'words': [{u'boundingBox': u'317,176,12,12', u'text': u'0'}, {u'boundingBox': u'397,178,6,7', u'text': u'\\u81ea'}, {u'boundingBox': u'411,178,5,7', u'text': u'd'}, {u'boundingBox': u'417,178,9,7', u'text': u'\\u5c71'}, {u'boundingBox': u'427,180,12,5', u'text': u'on'}, {u'boundingBox': u'440,180,4,5', u'text': u'\\u5201'}, {u'boundingBox': u'446,178,9,7', u'text': u'\\u5de7'}]}, {u'boundingBox': u'385,192,61,8', u'words': [{u'boundingBox': u'385,192,7,8', u'text': u'\\u5341'}, {u'boundingBox': u'404,193,21,6', u'text': u'000'}, {u'boundingBox': u'427,193,3,5', u'text': u\"'\"}, {u'boundingBox': u'442,193,4,5', u'text': u\"'\"}]}, {u'boundingBox': u'29,201,67,17', u'words': [{u'boundingBox': u'29,212,7,5', u'text': u'\\u201c'}, {u'boundingBox': u'46,202,15,16', u'text': u'\\u5929'}, {u'boundingBox': u'64,202,16,16', u'text': u'\\u6d25'}, {u'boundingBox': u'83,201,13,16', u'text': u'\\u5e02'}]}, {u'boundingBox': u'319,201,25,14', u'words': [{u'boundingBox': u'319,201,14,14', u'text': u'\\u56d7'}, {u'boundingBox': u'336,201,8,8', u'text': u'\\u4ee3'}]}]}, {u'boundingBox': u'167,247,195,50', u'lines': [{u'boundingBox': u'167,247,166,26', u'words': [{u'boundingBox': u'167,247,26,14', u'text': u'\"40'}, {u'boundingBox': u'210,247,18,14', u'text': u'63'}, {u'boundingBox': u'231,248,16,13', u'text': u'\\u5de7'}, {u'boundingBox': u'247,248,11,13', u'text': u'3'}, {u'boundingBox': u'292,257,16,15', u'text': u'\\u7d46'}, {u'boundingBox': u'306,265,5,7', u'text': u'\\u3002'}, {u'boundingBox': u'319,259,14,14', u'text': u'\\u56d7'}]}, {u'boundingBox': u'319,283,43,14', u'words': [{u'boundingBox': u'319,283,2,13', u'text': u'['}, {u'boundingBox': u'321,283,10,14', u'text': u'\\u4e8c'}, {u'boundingBox': u'331,283,2,13', u'text': u']'}, {u'boundingBox': u'345,283,8,7', u'text': u'\\u5d06'}, {u'boundingBox': u'354,283,8,7', u'text': u'\\u953c'}]}]}, {u'boundingBox': u'1,328,196,220', u'lines': [{u'boundingBox': u'6,328,39,9', u'words': [{u'boundingBox': u'6,328,8,9', u'text': u'\\u6559'}, {u'boundingBox': u'16,328,9,9', u'text': u'\\u4f94'}, {u'boundingBox': u'27,328,8,9', u'text': u'\\u516c'}, {u'boundingBox': u'38,328,7,9', u'text': u'\\u7684'}]}, {u'boundingBox': u'91,433,106,9', u'words': [{u'boundingBox': u'91,433,45,9', u'text': u'Shipment'}, {u'boundingBox': u'140,433,57,8', u'text': u'Information'}]}, {u'boundingBox': u'1,501,53,11', u'words': [{u'boundingBox': u'1,501,11,11', u'text': u'0'}, {u'boundingBox': u'16,503,8,7', u'text': u'\\u5904'}, {u'boundingBox': u'26,502,9,9', u'text': u'\\u804c'}, {u'boundingBox': u'47,502,7,8', u'text': u'0'}]}, {u'boundingBox': u'54,524,39,9', u'words': [{u'boundingBox': u'54,525,22,7', u'text': u'Cm*'}, {u'boundingBox': u'82,524,11,9', u'text': u'\\u8035'}]}, {u'boundingBox': u'132,524,49,8', u'words': [{u'boundingBox': u'132,525,5,7', u'text': u'\\uff08'}, {u'boundingBox': u'139,525,8,6', u'text': u'm'}, {u'boundingBox': u'149,525,6,6', u'text': u'X'}, {u'boundingBox': u'170,524,6,7', u'text': u'\\u4ee5'}, {u'boundingBox': u'179,525,2,6', u'text': u'\\uff1a'}]}, {u'boundingBox': u'76,540,70,8', u'words': [{u'boundingBox': u'76,541,23,7', u'text': u'b000'}, {u'boundingBox': u'124,540,4,8', u'text': u'\\u51ab'}, {u'boundingBox': u'129,540,11,8', u'text': u'\\u95d0'}, {u'boundingBox': u'141,540,5,8', u'text': u'0'}]}]}, {u'boundingBox': u'380,259,132,205', u'lines': [{u'boundingBox': u'403,259,26,14', u'words': [{u'boundingBox': u'403,259,14,14', u'text': u'\\u56d7'}, {u'boundingBox': u'419,263,10,7', u'text': u'\\u201c'}]}, {u'boundingBox': u'380,392,59,14', u'words': [{u'boundingBox': u'380,393,2,13', u'text': u'\\u300a'}, {u'boundingBox': u'382,392,12,14', u'text': u'\\u4e8c'}, {u'boundingBox': u'397,392,4,6', u'text': u'\\u51ab'}, {u'boundingBox': u'432,392,7,8', u'text': u'\\u8fd8'}]}, {u'boundingBox': u'380,409,86,14', u'words': [{u'boundingBox': u'380,410,2,13', u'text': u'\\u300a'}, {u'boundingBox': u'383,410,8,13', u'text': u'\\u4e8c'}, {u'boundingBox': u'392,410,9,13', u'text': u'\\u5c38'}, {u'boundingBox': u'423,409,7,8', u'text': u'\\u4e2a'}, {u'boundingBox': u'441,410,7,7', u'text': u'\\u5316'}, {u'boundingBox': u'449,409,8,8', u'text': u'0'}, {u'boundingBox': u'459,409,7,8', u'text': u'\\u821e'}]}, {u'boundingBox': u'383,428,129,8', u'words': [{u'boundingBox': u'383,429,7,7', u'text': u'\\uff0c'}, {u'boundingBox': u'392,429,7,7', u'text': u'\\u8f91'}, {u'boundingBox': u'410,428,7,8', u'text': u'\\u897f'}, {u'boundingBox': u'418,429,13,7', u'text': u'00'}, {u'boundingBox': u'432,429,5,6', u'text': u'\\u540e'}, {u'boundingBox': u'444,430,5,5', u'text': u'd'}, {u'boundingBox': u'459,429,1,6', u'text': u'\\u300a'}, {u'boundingBox': u'461,431,8,4', u'text': u'\\u201c'}, {u'boundingBox': u'474,429,7,7', u'text': u'\\uff0c'}, {u'boundingBox': u'482,429,7,7', u'text': u'\\u5230'}, {u'boundingBox': u'491,429,5,7', u'text': u'\\uff08'}, {u'boundingBox': u'497,429,3,6', u'text': u'h'}, {u'boundingBox': u'501,430,6,5', u'text': u'\\u548c'}, {u'boundingBox': u'508,431,4,5', u'text': u'0'}]}, {u'boundingBox': u'401,456,73,8', u'words': [{u'boundingBox': u'401,456,7,8', u'text': u'0'}, {u'boundingBox': u'418,456,4,7', u'text': u'\\uff0c'}, {u'boundingBox': u'422,457,8,6', u'text': u'\\u3001'}, {u'boundingBox': u'455,457,7,6', u'text': u'01'}, {u'boundingBox': u'465,457,9,6', u'text': u'\\u664c'}]}]}, {u'boundingBox': u'535,339,143,73', u'lines': [{u'boundingBox': u'551,339,43,8', u'words': [{u'boundingBox': u'551,339,8,8', u'text': u'\\u7684'}, {u'boundingBox': u'560,342,7,2', u'text': u'-'}, {u'boundingBox': u'578,339,7,7', u'text': u'\\u5185'}, {u'boundingBox': u'587,339,7,8', u'text': u'0'}]}, {u'boundingBox': u'535,403,143,9', u'words': [{u'boundingBox': u'535,403,9,8', u'text': u'\\u6536'}, {u'boundingBox': u'546,403,8,8', u'text': u'\\u4ef6'}, {u'boundingBox': u'557,403,8,8', u'text': u'\\u4eba'}, {u'boundingBox': u'589,403,5,7', u'text': u'\\uff08'}, {u'boundingBox': u'595,404,5,6', u'text': u'0'}, {u'boundingBox': u'601,405,9,5', u'text': u'\\u4e24'}, {u'boundingBox': u'619,405,5,5', u'text': u'n'}, {u'boundingBox': u'625,404,5,6', u'text': u'\\u8d75'}, {u'boundingBox': u'645,403,33,9', u'text': u'Signatu'}]}]}, {u'boundingBox': u'319,393,53,87', u'lines': [{u'boundingBox': u'319,393,37,15', u'words': [{u'boundingBox': u'319,394,14,14', u'text': u'\\u56d7'}, {u'boundingBox': u'345,393,11,15', u'text': u'\\u5df2'}]}, {u'boundingBox': u'321,429,41,7', u'words': [{u'boundingBox': u'321,429,7,7', u'text': u'\\u9570'}, {u'boundingBox': u'330,429,7,7', u'text': u'\\u6134'}, {u'boundingBox': u'339,430,5,5', u'text': u'V'}, {u'boundingBox': u'344,431,3,5', u'text': u'\\u5b6c'}, {u'boundingBox': u'348,430,6,6', u'text': u'\\u51f5'}, {u'boundingBox': u'355,431,7,4', u'text': u'\\u201d'}]}, {u'boundingBox': u'323,470,49,10', u'words': [{u'boundingBox': u'323,470,6,10', u'text': u'\\u5b6c'}, {u'boundingBox': u'342,470,8,8', u'text': u'm'}, {u'boundingBox': u'355,470,17,7', u'text': u'Cha'}]}]}, {u'boundingBox': u'722,454,41,104', u'lines': [{u'boundingBox': u'722,454,34,17', u'words': [{u'boundingBox': u'722,455,16,16', u'text': u'\\u5b8c'}, {u'boundingBox': u'739,454,17,17', u'text': u'\\u597d'}]}, {u'boundingBox': u'722,473,41,17', u'words': [{u'boundingBox': u'722,473,16,17', u'text': u'\\u8f6c'}, {u'boundingBox': u'740,473,15,17', u'text': u'\\u5bc4'}, {u'boundingBox': u'758,484,5,4', u'text': u'\\u3002'}]}, {u'boundingBox': u'722,549,33,9', u'words': [{u'boundingBox': u'722,549,8,9', u'text': u'u'}, {u'boundingBox': u'732,549,8,9', u'text': u'n'}, {u'boundingBox': u'742,556,2,2', u'text': u'\\uff0e'}, {u'boundingBox': u'747,549,8,9', u'text': u'0'}]}]}], u'textAngle': 0.0, u'orientation': u'Up', u'language': u'zh-Hans'}\n"
     ]
    }
   ],
   "source": [
    "# URL direction to image\n",
    "urlImage = 'https://www.secpulse.com/upload/201406/08033954edc732dc9afda2246e3e564b3844f4c3.png'\n",
    "\n",
    "# Computer Vision parameters\n",
    "params = { 'handwriting' : 'true'}\n",
    "\n",
    "headers = dict()\n",
    "headers['Ocp-Apim-Subscription-Key'] = _key\n",
    "headers['Content-Type'] = 'application/json'\n",
    "\n",
    "json = { 'url': urlImage }\n",
    "data = None\n",
    "\n",
    "result = None\n",
    "operationLocation = processRequest(json, data, headers, params)\n",
    "if (operationLocation != None):\n",
    "    headers = {}\n",
    "    headers['Ocp-Apim-Subscription-Key'] = _key\n",
    "    while True:\n",
    "        time.sleep(1)\n",
    "        result = getOCRTextResult(operationLocation, headers)\n",
    "        if result['status'] == 'Succeeded' or result['status'] == 'Failed':\n",
    "            break\n",
    "\n",
    "if result is not None and result['status'] == 'Succeeded':\n",
    "    # Load the original image, fetched from the URL\n",
    "    arr = np.asarray( bytearray( requests.get( urlImage ).content ), dtype=np.uint8 )\n",
    "    img = cv2.cvtColor( cv2.imdecode( arr, -1 ), cv2.COLOR_BGR2RGB )\n",
    "    showResultOnImage( result, img )"
   ]
  },
  {
   "cell_type": "code",
   "execution_count": null,
   "metadata": {
    "collapsed": true,
    "deletable": true,
    "editable": true
   },
   "outputs": [],
   "source": []
  }
 ],
 "metadata": {
  "anaconda-cloud": {},
  "kernelspec": {
   "display_name": "Python 2",
   "language": "python",
   "name": "python2"
  },
  "language_info": {
   "codemirror_mode": {
    "name": "ipython",
    "version": 2
   },
   "file_extension": ".py",
   "mimetype": "text/x-python",
   "name": "python",
   "nbconvert_exporter": "python",
   "pygments_lexer": "ipython2",
   "version": "2.7.13"
  }
 },
 "nbformat": 4,
 "nbformat_minor": 0
}
