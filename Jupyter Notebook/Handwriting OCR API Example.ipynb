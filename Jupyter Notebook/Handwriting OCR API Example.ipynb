{
 "cells": [
  {
   "cell_type": "markdown",
   "metadata": {
    "deletable": true,
    "editable": true
   },
   "source": [
    "# Handwriting OCR API example"
   ]
  },
  {
   "cell_type": "markdown",
   "metadata": {
    "deletable": true,
    "editable": true
   },
   "source": [
    "### This Jupyter notebook shows you how to get started with the Cognitive Service <b>Computer Vision Handwriting OCR API</b> in Python, and how to visualize your results."
   ]
  },
  {
   "cell_type": "markdown",
   "metadata": {
    "deletable": true,
    "editable": true
   },
   "source": [
    "To use this notebook, you will need to get keys to <b>Computer Vision API</b>. Visit <a href=\"https://www.microsoft.com/cognitive-services/en-us/computer-vision-api\">https://www.microsoft.com/cognitive-services/en-us/computer-vision-api</a>, and then the “Try for free” button. On the “Sign in” page, use your Microsoft account to sign in and you will be able to subscribe to Computer Vision API and get free keys (Code of Conduct and TOS). After completing the sign-up process, paste your key into the variables section below. (Either the primary or the secondary key works.)"
   ]
  },
  {
   "cell_type": "code",
   "execution_count": 7,
   "metadata": {
    "collapsed": true,
    "deletable": true,
    "editable": true
   },
   "outputs": [],
   "source": [
    "import time \n",
    "import requests\n",
    "import cv2\n",
    "import operator\n",
    "import numpy as np\n",
    "\n",
    "# Import library to display results\n",
    "import matplotlib.pyplot as plt\n",
    "from matplotlib.lines import Line2D\n",
    "%matplotlib inline \n",
    "# Display images within Jupyter"
   ]
  },
  {
   "cell_type": "code",
   "execution_count": 8,
   "metadata": {
    "collapsed": true,
    "deletable": true,
    "editable": true
   },
   "outputs": [],
   "source": [
    "# Variables\n",
    "\n",
    "_url = 'https://api.cognitive.azure.cn/vision/v1.0/ocr?language=zh-Hans&detectOrientation=true'\n",
    "_key = None  #Here you have to paste your primary key\n",
    "_key = \"2e91458c4db94345899fb3669f1a93a2\" #Here you have to paste your primary key\n",
    "_maxNumRetries = 10"
   ]
  },
  {
   "cell_type": "markdown",
   "metadata": {
    "deletable": true,
    "editable": true
   },
   "source": [
    "# Helper functions"
   ]
  },
  {
   "cell_type": "code",
   "execution_count": 9,
   "metadata": {
    "collapsed": true,
    "deletable": true,
    "editable": true
   },
   "outputs": [],
   "source": [
    "def processRequest( json, data, headers, params ):\n",
    "\n",
    "    \"\"\"\n",
    "    Helper function to process the request to Project Oxford\n",
    "\n",
    "    Parameters:\n",
    "    json: Used when processing images from its URL. See API Documentation\n",
    "    data: Used when processing image read from disk. See API Documentation\n",
    "    headers: Used to pass the key information and the data type request\n",
    "    \"\"\"\n",
    "\n",
    "    retries = 0\n",
    "    result = None\n",
    "\n",
    "    while True:\n",
    "        response = requests.request( 'post', _url, json = json, data = data, headers = headers, params = params )\n",
    "\n",
    "        if response.status_code == 429:\n",
    "            print( \"Message: %s\" % ( response.json() ) )\n",
    "            if retries <= _maxNumRetries: \n",
    "                time.sleep(1) \n",
    "                retries += 1\n",
    "                continue\n",
    "            else: \n",
    "                print( 'Error: failed after retrying!' )\n",
    "                break\n",
    "        elif response.status_code == 202:\n",
    "            result = response.headers['Operation-Location']\n",
    "        else:\n",
    "            print( \"Error code: %d\" % ( response.status_code ) )\n",
    "            print( \"Message: %s\" % ( response.json() ) )\n",
    "        break\n",
    "        \n",
    "    return result"
   ]
  },
  {
   "cell_type": "code",
   "execution_count": 10,
   "metadata": {
    "collapsed": true,
    "deletable": true,
    "editable": true
   },
   "outputs": [],
   "source": [
    "def getOCRTextResult( operationLocation, headers ):\n",
    "    \"\"\"\n",
    "    Helper function to get text result from operation location\n",
    "\n",
    "    Parameters:\n",
    "    operationLocation: operationLocation to get text result, See API Documentation\n",
    "    headers: Used to pass the key information\n",
    "    \"\"\"\n",
    "\n",
    "    retries = 0\n",
    "    result = None\n",
    "\n",
    "    while True:\n",
    "        response = requests.request('get', operationLocation, json=None, data=None, headers=headers, params=None)\n",
    "        if response.status_code == 429:\n",
    "            print(\"Message: %s\" % (response.json()))\n",
    "            if retries <= _maxNumRetries:\n",
    "                time.sleep(1)\n",
    "                retries += 1\n",
    "                continue\n",
    "            else:\n",
    "                print('Error: failed after retrying!')\n",
    "                break\n",
    "        elif response.status_code == 200:\n",
    "            result = response.json()\n",
    "        else:\n",
    "            print(\"Error code: %d\" % (response.status_code))\n",
    "            print(\"Message: %s\" % (response.json()))\n",
    "        break\n",
    "\n",
    "    return result"
   ]
  },
  {
   "cell_type": "code",
   "execution_count": 22,
   "metadata": {
    "collapsed": true,
    "deletable": true,
    "editable": true
   },
   "outputs": [],
   "source": [
    "def showResultOnImage( result, img ):\n",
    "    \n",
    "    \"\"\"Display the obtained results onto the input image\"\"\"\n",
    "    img = img[:, :, (2, 1, 0)]\n",
    "    fig, ax = plt.subplots(figsize=(12, 12))\n",
    "    ax.imshow(img, aspect='equal')\n",
    "\n",
    "    lines = result['recognitionResult']['lines']\n",
    "\n",
    "    for i in range(len(lines)):\n",
    "        words = lines[i]['words']\n",
    "        for j in range(len(words)):\n",
    "            tl = (words[j]['boundingBox'][0], words[j]['boundingBox'][1])\n",
    "            tr = (words[j]['boundingBox'][2], words[j]['boundingBox'][3])\n",
    "            br = (words[j]['boundingBox'][4], words[j]['boundingBox'][5])\n",
    "            bl = (words[j]['boundingBox'][6], words[j]['boundingBox'][7])\n",
    "            text = words[j]['text']\n",
    "            x = [tl[0], tr[0], tr[0], br[0], br[0], bl[0], bl[0], tl[0]]\n",
    "            y = [tl[1], tr[1], tr[1], br[1], br[1], bl[1], bl[1], tl[1]]\n",
    "            line = Line2D(x, y, linewidth=3.5, color='red')\n",
    "            ax.add_line(line)\n",
    "            ax.text(tl[0], tl[1] - 2, '{:s}'.format(text),\n",
    "            bbox=dict(facecolor='blue', alpha=0.5),\n",
    "            fontsize=14, color='white')\n",
    "\n",
    "    plt.axis('off')\n",
    "    plt.tight_layout()\n",
    "    plt.draw()\n",
    "    plt.show()"
   ]
  },
  {
   "cell_type": "markdown",
   "metadata": {
    "deletable": true,
    "editable": true
   },
   "source": [
    "# Analysis of an image stored on disk"
   ]
  },
  {
   "cell_type": "code",
   "execution_count": 28,
   "metadata": {
    "collapsed": false,
    "deletable": true,
    "editable": true
   },
   "outputs": [
    {
     "name": "stdout",
     "output_type": "stream",
     "text": [
      "Error code: 200\n",
      "Message: {u'regions': [{u'boundingBox': u'128,336,2848,448', u'lines': [{u'boundingBox': u'2016,336,960,320', u'words': [{u'boundingBox': u'2016,352,80,304', u'text': u'\\u5ddd'}, {u'boundingBox': u'2112,344,360,312', u'text': u'11111111111'}, {u'boundingBox': u'2480,344,24,304', u'text': u']'}, {u'boundingBox': u'2512,344,184,304', u'text': u'\\u65e7'}, {u'boundingBox': u'2712,464,8,184', u'text': u'\\u300a'}, {u'boundingBox': u'2728,336,248,312', u'text': u'\\u7793'}]}, {u'boundingBox': u'128,631,354,50', u'words': [{u'boundingBox': u'128,633,46,46', u'text': u'O'}, {u'boundingBox': u'202,632,48,48', u'text': u'\\u5bc4'}, {u'boundingBox': u'254,631,49,49', u'text': u'\\u4ef6'}, {u'boundingBox': u'309,632,49,48', u'text': u'\\u4eba'}, {u'boundingBox': u'361,633,50,48', u'text': u'\\u4f47'}, {u'boundingBox': u'420,632,36,30', u'text': u'\\u81ea'}, {u'boundingBox': u'472,654,10,10', u'text': u'\\uff0c'}]}, {u'boundingBox': u'151,734,175,50', u'words': [{u'boundingBox': u'151,734,48,50', u'text': u'\\u5bc4'}, {u'boundingBox': u'203,734,50,50', u'text': u'\\u4ef6'}, {u'boundingBox': u'256,735,49,49', u'text': u'\\u4eba'}, {u'boundingBox': u'317,758,9,22', u'text': u'\\uff1a'}]}]}, {u'boundingBox': u'153,438,1437,607', u'lines': [{u'boundingBox': u'843,438,747,64', u'words': [{u'boundingBox': u'843,457,45,45', u'text': u'\\u5168'}, {u'boundingBox': u'939,451,46,48', u'text': u'\\u7403'}, {u'boundingBox': u'1039,449,46,48', u'text': u'\\u90ae'}, {u'boundingBox': u'1138,447,49,47', u'text': u'\\u653f'}, {u'boundingBox': u'1243,445,44,49', u'text': u'\\u7279'}, {u'boundingBox': u'1345,444,42,49', u'text': u'\\u5feb'}, {u'boundingBox': u'1448,441,41,48', u'text': u'\\u4e13'}, {u'boundingBox': u'1545,438,45,47', u'text': u'\\u9012'}]}, {u'boundingBox': u'876,496,702,50', u'words': [{u'boundingBox': u'876,511,28,35', u'text': u'0'}, {u'boundingBox': u'947,509,31,32', u'text': u'\\u53e3'}, {u'boundingBox': u'1021,507,14,32', u'text': u'/'}, {u'boundingBox': u'1037,506,30,33', u'text': u'D'}, {u'boundingBox': u'1068,505,25,33', u'text': u'\\u4e0b'}, {u'boundingBox': u'1101,504,26,33', u'text': u'\\u4e0b'}, {u'boundingBox': u'1126,504,32,33', u'text': u'\\u5149'}, {u'boundingBox': u'1208,503,26,33', u'text': u'\\u4e0b'}, {u'boundingBox': u'1229,502,50,34', u'text': u'SS'}, {u'boundingBox': u'1291,502,41,33', u'text': u'\\u808b'}, {u'boundingBox': u'1362,501,15,33', u'text': u'/'}, {u'boundingBox': u'1376,501,17,33', u'text': u'L'}, {u'boundingBox': u'1409,499,27,35', u'text': u'S'}, {u'boundingBox': u'1436,499,25,33', u'text': u'\\u4e0b'}, {u'boundingBox': u'1489,497,36,33', u'text': u'\\u5200'}, {u'boundingBox': u'1524,496,30,34', u'text': u'C'}, {u'boundingBox': u'1553,496,25,33', u'text': u'\\u4e0b'}]}, {u'boundingBox': u'904,709,245,51', u'words': [{u'boundingBox': u'904,711,43,49', u'text': u'\\u7535'}, {u'boundingBox': u'951,711,48,47', u'text': u'\\u8bdd'}, {u'boundingBox': u'1001,713,25,41', u'text': u'/'}, {u'boundingBox': u'1029,711,48,47', u'text': u'\\u624b'}, {u'boundingBox': u'1081,709,49,48', u'text': u'\\u673a'}, {u'boundingBox': u'1141,731,8,22', u'text': u'\\uff1a'}]}, {u'boundingBox': u'903,760,217,34', u'words': [{u'boundingBox': u'903,763,10,30', u'text': u'\\uff08'}, {u'boundingBox': u'927,762,31,32', u'text': u'\\u975e'}, {u'boundingBox': u'972,761,30,33', u'text': u'\\u5e38'}, {u'boundingBox': u'1016,761,32,32', u'text': u'\\u91cd'}, {u'boundingBox': u'1061,760,34,33', u'text': u'\\u8981'}, {u'boundingBox': u'1110,761,10,30', u'text': u'\\uff09'}]}, {u'boundingBox': u'153,837,1383,87', u'words': [{u'boundingBox': u'153,847,49,51', u'text': u'\\u5355'}, {u'boundingBox': u'205,847,54,51', u'text': u'\\u4f4d'}, {u'boundingBox': u'260,849,46,50', u'text': u'\\u540d'}, {u'boundingBox': u'313,849,49,50', u'text': u'\\u79f0'}, {u'boundingBox': u'373,872,9,22', u'text': u'\\uff1a'}, {u'boundingBox': u'408,852,65,72', u'text': u'\\u970d'}, {u'boundingBox': u'482,854,66,65', u'text': u'\\u5c3c'}, {u'boundingBox': u'552,851,62,67', u'text': u'\\u97e6'}, {u'boundingBox': u'626,850,60,68', u'text': u'\\u5c14'}, {u'boundingBox': u'730,853,24,59', u'text': u'\\uff08'}, {u'boundingBox': u'768,848,58,67', u'text': u'\\u4e2d'}, {u'boundingBox': u'841,845,56,70', u'text': u'\\u56fd'}, {u'boundingBox': u'912,849,22,59', u'text': u'\\uff09'}, {u'boundingBox': u'977,842,66,69', u'text': u'\\u6709'}, {u'boundingBox': u'1053,844,61,70', u'text': u'\\u9650'}, {u'boundingBox': u'1122,844,62,66', u'text': u'\\u516c'}, {u'boundingBox': u'1198,842,56,66', u'text': u'\\u53f8'}, {u'boundingBox': u'1311,838,49,50', u'text': u'\\u5ba2'}, {u'boundingBox': u'1364,837,45,50', u'text': u'\\u6237'}, {u'boundingBox': u'1416,837,48,50', u'text': u'\\u4ee3'}, {u'boundingBox': u'1468,838,47,48', u'text': u'\\u7801'}, {u'boundingBox': u'1527,859,9,22', u'text': u'\\uff1a'}]}, {u'boundingBox': u'155,963,1389,82', u'words': [{u'boundingBox': u'155,967,51,47', u'text': u'\\u5730'}, {u'boundingBox': u'209,967,51,47', u'text': u'\\u5740'}, {u'boundingBox': u'270,989,9,23', u'text': u'\\uff1a'}, {u'boundingBox': u'298,975,67,66', u'text': u'\\u4e0a'}, {u'boundingBox': u'370,976,66,67', u'text': u'\\u6d77'}, {u'boundingBox': u'444,974,60,71', u'text': u'\\u5e02'}, {u'boundingBox': u'510,973,64,72', u'text': u'\\u6d66'}, {u'boundingBox': u'583,974,63,70', u'text': u'\\u4e1c'}, {u'boundingBox': u'653,970,69,69', u'text': u'\\u5f20'}, {u'boundingBox': u'724,975,70,62', u'text': u'\\u6c5f'}, {u'boundingBox': u'798,969,64,69', u'text': u'\\u9ad8'}, {u'boundingBox': u'865,968,66,70', u'text': u'\\u79d1'}, {u'boundingBox': u'935,965,64,72', u'text': u'\\u6280'}, {u'boundingBox': u'1009,966,65,70', u'text': u'\\u56ed'}, {u'boundingBox': u'1084,970,59,65', u'text': u'\\u533a'}, {u'boundingBox': u'1153,965,69,71', u'text': u'\\u674e'}, {u'boundingBox': u'1225,965,67,68', u'text': u'\\u51b0'}, {u'boundingBox': u'1298,964,70,69', u'text': u'\\u8def'}, {u'boundingBox': u'1370,973,102,55', u'text': u'430'}, {u'boundingBox': u'1482,963,62,69', u'text': u'\\u53f7'}]}]}, {u'boundingBox': u'1962,686,16,45', u'lines': [{u'boundingBox': u'1962,686,16,45', u'words': [{u'boundingBox': u'1962,686,16,45', u'text': u'1'}]}]}, {u'boundingBox': u'2035,683,29,45', u'lines': [{u'boundingBox': u'2035,683,29,45', u'words': [{u'boundingBox': u'2035,683,29,45', u'text': u'0'}]}]}, {u'boundingBox': u'2113,673,820,52', u'lines': [{u'boundingBox': u'2113,673,820,52', u'words': [{u'boundingBox': u'2113,680,30,45', u'text': u'6'}, {u'boundingBox': u'2192,678,29,45', u'text': u'5'}, {u'boundingBox': u'2271,678,30,45', u'text': u'4'}, {u'boundingBox': u'2350,677,30,45', u'text': u'9'}, {u'boundingBox': u'2429,674,31,46', u'text': u'5'}, {u'boundingBox': u'2509,673,31,45', u'text': u'0'}, {u'boundingBox': u'2589,673,30,44', u'text': u'0'}, {u'boundingBox': u'2668,673,28,45', u'text': u'7'}, {u'boundingBox': u'2745,674,31,46', u'text': u'5'}, {u'boundingBox': u'2824,675,29,45', u'text': u'2'}, {u'boundingBox': u'2902,676,31,44', u'text': u'4'}]}]}, {u'boundingBox': u'2103,809,353,358', u'lines': [{u'boundingBox': u'2103,809,307,51', u'words': [{u'boundingBox': u'2103,813,48,47', u'text': u'0'}, {u'boundingBox': u'2180,810,49,50', u'text': u'\\u9644'}, {u'boundingBox': u'2233,811,47,48', u'text': u'\\u52a0'}, {u'boundingBox': u'2285,810,51,49', u'text': u'\\u670d'}, {u'boundingBox': u'2341,809,49,50', u'text': u'\\u52a1'}, {u'boundingBox': u'2400,830,10,23', u'text': u'\\uff1a'}]}, {u'boundingBox': u'2134,903,301,56', u'words': [{u'boundingBox': u'2134,904,54,55', u'text': u'\\u56d7'}, {u'boundingBox': u'2224,905,51,51', u'text': u'\\u59a5'}, {u'boundingBox': u'2277,905,51,50', u'text': u'\\u6295'}, {u'boundingBox': u'2331,905,51,49', u'text': u'\\u77ed'}, {u'boundingBox': u'2385,903,50,51', u'text': u'\\u4fe1'}]}, {u'boundingBox': u'2134,1007,301,55', u'words': [{u'boundingBox': u'2134,1008,54,54', u'text': u'\\u56d7'}, {u'boundingBox': u'2227,1009,48,49', u'text': u'\\u7535'}, {u'boundingBox': u'2279,1011,49,47', u'text': u'\\u5b50'}, {u'boundingBox': u'2332,1008,50,50', u'text': u'\\u8fd4'}, {u'boundingBox': u'2387,1007,48,50', u'text': u'\\u5355'}]}, {u'boundingBox': u'2135,1110,321,57', u'words': [{u'boundingBox': u'2135,1110,54,57', u'text': u'\\u56d7'}, {u'boundingBox': u'2225,1112,49,50', u'text': u'\\u4ee3'}, {u'boundingBox': u'2279,1111,49,50', u'text': u'\\u6536'}, {u'boundingBox': u'2333,1112,48,49', u'text': u'\\u8d27'}, {u'boundingBox': u'2386,1110,51,49', u'text': u'\\u6b3e'}, {u'boundingBox': u'2447,1132,9,22', u'text': u'\\uff1a'}]}]}, {u'boundingBox': u'2604,897,300,159', u'lines': [{u'boundingBox': u'2604,897,300,54', u'words': [{u'boundingBox': u'2604,897,55,54', u'text': u'\\u56d7'}, {u'boundingBox': u'2696,899,47,50', u'text': u'\\u5b9e'}, {u'boundingBox': u'2748,899,49,50', u'text': u'\\u7269'}, {u'boundingBox': u'2802,900,50,49', u'text': u'\\u8fd4'}, {u'boundingBox': u'2856,900,48,50', u'text': u'\\u5355'}]}, {u'boundingBox': u'2605,1000,214,56', u'words': [{u'boundingBox': u'2605,1000,55,56', u'text': u'\\u56d7'}, {u'boundingBox': u'2696,1003,49,50', u'text': u'\\u5176'}, {u'boundingBox': u'2752,1002,45,49', u'text': u'\\u5b83'}, {u'boundingBox': u'2810,1025,9,23', u'text': u'\\uff1a'}]}]}, {u'boundingBox': u'3102,296,930,794', u'lines': [{u'boundingBox': u'3188,296,703,108', u'words': [{u'boundingBox': u'3188,306,94,98', u'text': u'\\u56fd'}, {u'boundingBox': u'3310,301,92,99', u'text': u'\\u5185'}, {u'boundingBox': u'3423,301,106,99', u'text': u'\\u6807'}, {u'boundingBox': u'3545,300,102,100', u'text': u'\\u51c6'}, {u'boundingBox': u'3663,298,106,102', u'text': u'\\u5feb'}, {u'boundingBox': u'3785,296,106,100', u'text': u'\\u9012'}]}, {u'boundingBox': u'3381,457,515,61', u'words': [{u'boundingBox': u'3381,457,60,61', u'text': u'\\u5ba2'}, {u'boundingBox': u'3449,460,60,56', u'text': u'\\u670d'}, {u'boundingBox': u'3520,457,57,59', u'text': u'\\u7535'}, {u'boundingBox': u'3585,459,60,56', u'text': u'\\u8bdd'}, {u'boundingBox': u'3661,485,11,26', u'text': u'\\uff1a'}, {u'boundingBox': u'3723,464,17,45', u'text': u'1'}, {u'boundingBox': u'3760,463,17,45', u'text': u'1'}, {u'boundingBox': u'3797,463,16,45', u'text': u'1'}, {u'boundingBox': u'3830,461,66,47', u'text': u'83'}]}, {u'boundingBox': u'3195,557,705,61', u'words': [{u'boundingBox': u'3195,560,56,58', u'text': u'\\u7f51'}, {u'boundingBox': u'3263,579,27,32', u'text': u'y'}, {u'boundingBox': u'3289,557,33,59', u'text': u'\\u5360'}, {u'boundingBox': u'3340,583,11,27', u'text': u'\\uff1a'}, {u'boundingBox': u'3397,577,121,31', u'text': u'WWW.'}, {u'boundingBox': u'3544,577,28,30', u'text': u'e'}, {u'boundingBox': u'3579,576,32,30', u'text': u'm'}, {u'boundingBox': u'3619,576,24,30', u'text': u'S'}, {u'boundingBox': u'3655,599,8,8', u'text': u'\\uff0c'}, {u'boundingBox': u'3688,576,27,31', u'text': u'C'}, {u'boundingBox': u'3724,576,28,30', u'text': u'0'}, {u'boundingBox': u'3759,576,32,30', u'text': u'm'}, {u'boundingBox': u'3800,598,8,7', u'text': u'\\xb7'}, {u'boundingBox': u'3834,574,28,31', u'text': u'C'}, {u'boundingBox': u'3872,573,28,31', u'text': u'n'}]}, {u'boundingBox': u'3102,797,367,54', u'words': [{u'boundingBox': u'3102,803,48,48', u'text': u'O'}, {u'boundingBox': u'3180,801,49,50', u'text': u'\\u5bc4'}, {u'boundingBox': u'3233,800,52,50', u'text': u'\\u4ef6'}, {u'boundingBox': u'3288,799,51,50', u'text': u'\\u4eba'}, {u'boundingBox': u'3343,797,50,51', u'text': u'\\u7b7e'}, {u'boundingBox': u'3398,798,49,49', u'text': u'\\u7f72'}, {u'boundingBox': u'3459,819,10,23', u'text': u'\\uff1a'}]}, {u'boundingBox': u'3973,807,59,100', u'words': [{u'boundingBox': u'3973,807,59,100', u'text': u'0'}]}, {u'boundingBox': u'3192,883,772,68', u'words': [{u'boundingBox': u'3192,891,62,60', u'text': u'\\u4ed4'}, {u'boundingBox': u'3249,891,67,59', u'text': u'\\u7ec6'}, {u'boundingBox': u'3313,890,65,58', u'text': u'\\u9605'}, {u'boundingBox': u'3376,888,64,60', u'text': u'\\u8bfb'}, {u'boundingBox': u'3443,887,58,61', u'text': u'\\u80cc'}, {u'boundingBox': u'3499,890,67,56', u'text': u'\\u9762'}, {u'boundingBox': u'3558,886,65,59', u'text': u'\\u5951'}, {u'boundingBox': u'3619,886,65,59', u'text': u'\\u7ea6'}, {u'boundingBox': u'3680,885,64,60', u'text': u'\\u6761'}, {u'boundingBox': u'3741,883,68,61', u'text': u'\\u6b3e'}, {u'boundingBox': u'3812,887,20,52', u'text': u'/'}, {u'boundingBox': u'3924,888,40,41', u'text': u'\\uff0e'}]}, {u'boundingBox': u'3127,941,839,80', u'words': [{u'boundingBox': u'3127,964,63,57', u'text': u'\\u627f'}, {u'boundingBox': u'3187,963,67,56', u'text': u'\\u8fd0'}, {u'boundingBox': u'3247,960,60,58', u'text': u'\\u4e45'}, {u'boundingBox': u'3318,963,54,53', u'text': u'\\u5df2'}, {u'boundingBox': u'3373,960,63,58', u'text': u'\\u5c3d'}, {u'boundingBox': u'3439,958,58,60', u'text': u'\\u8bf4'}, {u'boundingBox': u'3499,959,63,58', u'text': u'\\u660e'}, {u'boundingBox': u'3557,956,62,58', u'text': u'\\u6208'}, {u'boundingBox': u'3619,955,65,61', u'text': u'\\u52a1'}, {u'boundingBox': u'3682,994,15,22', u'text': u'\\uff0c'}, {u'boundingBox': u'3742,955,67,59', u'text': u'\\u60a8'}, {u'boundingBox': u'3805,952,65,61', u'text': u'\\u7684'}, {u'boundingBox': u'3925,941,15,63', u'text': u'\\u624c'}, {u'boundingBox': u'3939,941,27,41', u'text': u'\\u6bb3'}]}, {u'boundingBox': u'3130,1024,837,66', u'words': [{u'boundingBox': u'3130,1032,67,58', u'text': u'\\u8354'}, {u'boundingBox': u'3193,1030,60,60', u'text': u'\\u540d'}, {u'boundingBox': u'3250,1029,66,60', u'text': u'\\u7c2b'}, {u'boundingBox': u'3436,1028,66,59', u'text': u'\\u60a8'}, {u'boundingBox': u'3497,1029,66,56', u'text': u'\\u7406'}, {u'boundingBox': u'3557,1025,69,61', u'text': u'\\u89e3'}, {u'boundingBox': u'3620,1025,65,60', u'text': u'\\u5349'}, {u'boundingBox': u'3685,1026,64,57', u'text': u'\\u540c'}, {u'boundingBox': u'3807,1024,65,60', u'text': u'\\u63a5'}, {u'boundingBox': u'3928,1045,39,39', u'text': u'\\u5c40'}]}]}, {u'boundingBox': u'2853,1206,51,50', u'lines': [{u'boundingBox': u'2853,1206,51,50', u'words': [{u'boundingBox': u'2853,1206,20,50', u'text': u'\\u624c'}, {u'boundingBox': u'2869,1206,35,50', u'text': u'\\u5408'}]}]}, {u'boundingBox': u'3009,1141,65,673', u'lines': [{u'boundingBox': u'3009,1141,48,34', u'words': [{u'boundingBox': u'3009,1141,48,34', u'text': u'\\u5140'}]}, {u'boundingBox': u'3010,1222,48,34', u'words': [{u'boundingBox': u'3010,1222,48,34', u'text': u'\\u5140'}]}, {u'boundingBox': u'3012,1430,49,34', u'words': [{u'boundingBox': u'3012,1430,49,34', u'text': u'\\u5140'}]}, {u'boundingBox': u'3017,1547,49,33', u'words': [{u'boundingBox': u'3017,1547,49,33', u'text': u'\\u5140'}]}, {u'boundingBox': u'3019,1663,50,34', u'words': [{u'boundingBox': u'3019,1663,50,34', u'text': u'\\u5140'}]}, {u'boundingBox': u'3023,1781,51,33', u'words': [{u'boundingBox': u'3023,1781,51,33', u'text': u'\\u5140'}]}]}, {u'boundingBox': u'14,2265,45,126', u'lines': [{u'boundingBox': u'17,2265,42,39', u'words': [{u'boundingBox': u'17,2265,42,39', u'text': u'\\u9f15'}]}, {u'boundingBox': u'14,2350,42,41', u'words': [{u'boundingBox': u'14,2350,42,41', u'text': u'\\u6014'}]}]}, {u'boundingBox': u'112,1062,781,1342', u'lines': [{u'boundingBox': u'478,1062,103,52', u'words': [{u'boundingBox': u'478,1062,103,52', u'text': u'EID'}]}, {u'boundingBox': u'158,1143,222,55', u'words': [{u'boundingBox': u'158,1144,48,50', u'text': u'\\u5ba2'}, {u'boundingBox': u'210,1143,46,49', u'text': u'\\u6237'}, {u'boundingBox': u'262,1144,46,48', u'text': u'\\u5355'}, {u'boundingBox': u'314,1146,46,52', u'text': u'\\u53f7'}, {u'boundingBox': u'371,1165,9,22', u'text': u'\\uff1a'}]}, {u'boundingBox': u'131,1231,354,50', u'words': [{u'boundingBox': u'131,1234,46,46', u'text': u'@'}, {u'boundingBox': u'208,1232,50,48', u'text': u'\\u6536'}, {u'boundingBox': u'262,1232,48,49', u'text': u'\\u4ef6'}, {u'boundingBox': u'313,1232,47,48', u'text': u'\\u4eba'}, {u'boundingBox': u'365,1231,49,50', u'text': u'\\u4fe1'}, {u'boundingBox': u'417,1232,48,47', u'text': u'\\u606f'}, {u'boundingBox': u'475,1253,10,22', u'text': u'\\uff1a'}]}, {u'boundingBox': u'150,1337,173,49', u'words': [{u'boundingBox': u'150,1337,50,48', u'text': u'\\u6536'}, {u'boundingBox': u'203,1337,49,49', u'text': u'\\u4ef6'}, {u'boundingBox': u'255,1337,48,48', u'text': u'\\u4eba'}, {u'boundingBox': u'314,1359,9,22', u'text': u'\\uff1a'}]}, {u'boundingBox': u'146,1450,228,52', u'words': [{u'boundingBox': u'146,1450,50,52', u'text': u'\\u5355'}, {u'boundingBox': u'199,1451,51,49', u'text': u'\\u4f4d'}, {u'boundingBox': u'253,1451,44,49', u'text': u'\\u540d'}, {u'boundingBox': u'306,1450,48,50', u'text': u'\\u79f0'}, {u'boundingBox': u'365,1473,9,22', u'text': u'\\uff1a'}]}, {u'boundingBox': u'146,1570,123,48', u'words': [{u'boundingBox': u'146,1570,49,48', u'text': u'\\u5730'}, {u'boundingBox': u'199,1571,50,46', u'text': u'\\u5740'}, {u'boundingBox': u'259,1592,10,22', u'text': u'\\uff1a'}]}, {u'boundingBox': u'140,1879,224,51', u'words': [{u'boundingBox': u'140,1880,48,50', u'text': u'\\u5bc4'}, {u'boundingBox': u'191,1879,49,50', u'text': u'\\u8fbe'}, {u'boundingBox': u'243,1879,49,49', u'text': u'\\u57ce'}, {u'boundingBox': u'297,1880,47,50', u'text': u'\\u5e02'}, {u'boundingBox': u'354,1902,10,23', u'text': u'\\uff1a'}]}, {u'boundingBox': u'112,1969,404,51', u'words': [{u'boundingBox': u'112,1972,47,47', u'text': u'\\uff0e'}, {u'boundingBox': u'186,1971,50,49', u'text': u'\\u90ae'}, {u'boundingBox': u'240,1970,48,50', u'text': u'\\u4ef6'}, {u'boundingBox': u'291,1969,50,51', u'text': u'\\u8be6'}, {u'boundingBox': u'344,1971,48,47', u'text': u'\\u7ec6'}, {u'boundingBox': u'397,1970,48,50', u'text': u'\\u8bf4'}, {u'boundingBox': u'450,1971,45,49', u'text': u'\\u660e'}, {u'boundingBox': u'507,1993,9,22', u'text': u'\\uff1a'}]}, {u'boundingBox': u'237,2042,154,50', u'words': [{u'boundingBox': u'237,2043,47,47', u'text': u'\\u603b'}, {u'boundingBox': u'290,2042,48,50', u'text': u'\\u4ef6'}, {u'boundingBox': u'343,2043,48,49', u'text': u'\\u6570'}]}, {u'boundingBox': u'592,2042,301,50', u'words': [{u'boundingBox': u'592,2042,48,50', u'text': u'\\u5b9e'}, {u'boundingBox': u'646,2043,48,48', u'text': u'\\u9645'}, {u'boundingBox': u'698,2043,48,47', u'text': u'\\u91cd'}, {u'boundingBox': u'752,2044,47,46', u'text': u'\\u91cf'}, {u'boundingBox': u'809,2058,9,31', u'text': u'\\uff08'}, {u'boundingBox': u'819,2056,31,34', u'text': u'\\u5343'}, {u'boundingBox': u'853,2056,29,34', u'text': u'\\u514b'}, {u'boundingBox': u'883,2057,10,33', u'text': u'\\uff09'}]}, {u'boundingBox': u'130,2245,222,51', u'words': [{u'boundingBox': u'130,2245,43,50', u'text': u'\\u5185'}, {u'boundingBox': u'180,2245,48,51', u'text': u'\\u4ef6'}, {u'boundingBox': u'234,2248,45,45', u'text': u'\\u54c1'}, {u'boundingBox': u'285,2245,43,51', u'text': u'\\u540d'}, {u'boundingBox': u'343,2268,9,23', u'text': u'\\uff1a'}]}, {u'boundingBox': u'127,2347,705,57', u'words': [{u'boundingBox': u'127,2347,55,55', u'text': u'\\u56d7'}, {u'boundingBox': u'189,2349,49,50', u'text': u'\\u4fe1'}, {u'boundingBox': u'244,2351,44,49', u'text': u'\\u51fd'}, {u'boundingBox': u'349,2347,52,55', u'text': u'\\u56d7'}, {u'boundingBox': u'409,2350,47,50', u'text': u'\\u6587'}, {u'boundingBox': u'457,2350,49,50', u'text': u'\\u4ef6'}, {u'boundingBox': u'511,2351,46,50', u'text': u'\\u8d44'}, {u'boundingBox': u'562,2352,49,51', u'text': u'\\u6599'}, {u'boundingBox': u'670,2349,54,55', u'text': u'\\u56d7'}, {u'boundingBox': u'731,2351,49,51', u'text': u'\\u7269'}, {u'boundingBox': u'786,2352,46,48', u'text': u'\\u54c1'}]}]}, {u'boundingBox': u'900,1054,247,346', u'lines': [{u'boundingBox': u'1007,1054,111,53', u'words': [{u'boundingBox': u'1007,1054,54,53', u'text': u'C.'}, {u'boundingBox': u'1080,1055,38,51', u'text': u'C'}]}, {u'boundingBox': u'901,1314,246,50', u'words': [{u'boundingBox': u'901,1315,45,49', u'text': u'\\u7535'}, {u'boundingBox': u'950,1315,48,48', u'text': u'\\u8bdd'}, {u'boundingBox': u'1000,1318,24,41', u'text': u'/'}, {u'boundingBox': u'1028,1315,48,47', u'text': u'\\u624b'}, {u'boundingBox': u'1079,1314,49,48', u'text': u'\\u673a'}, {u'boundingBox': u'1138,1335,9,23', u'text': u'\\uff1a'}]}, {u'boundingBox': u'900,1366,218,34', u'words': [{u'boundingBox': u'900,1367,12,30', u'text': u'\\uff08'}, {u'boundingBox': u'925,1367,32,33', u'text': u'\\u975e'}, {u'boundingBox': u'971,1366,31,34', u'text': u'\\u5e38'}, {u'boundingBox': u'1016,1366,31,32', u'text': u'\\u91cd'}, {u'boundingBox': u'1059,1366,34,32', u'text': u'\\u8981'}, {u'boundingBox': u'1108,1366,10,30', u'text': u'\\uff09'}]}]}, {u'boundingBox': u'1302,1135,236,795', u'lines': [{u'boundingBox': u'1310,1135,120,49', u'words': [{u'boundingBox': u'1310,1135,46,49', u'text': u'\\u90ae'}, {u'boundingBox': u'1361,1135,49,49', u'text': u'\\u7f16'}, {u'boundingBox': u'1421,1157,9,22', u'text': u'\\uff1a'}]}, {u'boundingBox': u'1309,1445,229,50', u'words': [{u'boundingBox': u'1309,1445,49,50', u'text': u'\\u5ba2'}, {u'boundingBox': u'1362,1445,47,49', u'text': u'\\u6237'}, {u'boundingBox': u'1415,1445,49,49', u'text': u'\\u4ee3'}, {u'boundingBox': u'1468,1448,49,46', u'text': u'\\u7801'}, {u'boundingBox': u'1529,1468,9,22', u'text': u'\\uff1a'}]}, {u'boundingBox': u'1302,1879,122,51', u'words': [{u'boundingBox': u'1302,1880,47,50', u'text': u'\\u90ae'}, {u'boundingBox': u'1353,1879,50,51', u'text': u'\\u7f16'}, {u'boundingBox': u'1415,1902,9,23', u'text': u'\\uff1a'}]}]}, {u'boundingBox': u'2099,1207,647,149', u'lines': [{u'boundingBox': u'2383,1207,363,53', u'words': [{u'boundingBox': u'2383,1213,49,47', u'text': u'\\u4e07'}, {u'boundingBox': u'2539,1207,52,52', u'text': u'\\u4edf'}, {u'boundingBox': u'2696,1207,50,50', u'text': u'\\u4f70'}]}, {u'boundingBox': u'2099,1305,310,51', u'words': [{u'boundingBox': u'2099,1308,47,47', u'text': u'\\uff0e'}, {u'boundingBox': u'2177,1305,48,51', u'text': u'\\u5bc4'}, {u'boundingBox': u'2229,1306,51,49', u'text': u'\\u9012'}, {u'boundingBox': u'2284,1305,49,50', u'text': u'\\u8d39'}, {u'boundingBox': u'2339,1306,44,48', u'text': u'\\u7528'}, {u'boundingBox': u'2399,1326,10,24', u'text': u'\\uff1a'}]}]}, {u'boundingBox': u'3112,1097,532,424', u'lines': [{u'boundingBox': u'3123,1097,521,64', u'words': [{u'boundingBox': u'3123,1103,63,58', u'text': u'\\u53d7'}, {u'boundingBox': u'3184,1100,64,61', u'text': u'\\u6761'}, {u'boundingBox': u'3244,1099,69,60', u'text': u'\\u6b3e'}, {u'boundingBox': u'3308,1098,64,60', u'text': u'\\u7684'}, {u'boundingBox': u'3375,1122,57,8', u'text': u'\\u4e00'}, {u'boundingBox': u'3436,1099,62,58', u'text': u'\\u5207'}, {u'boundingBox': u'3495,1097,59,59', u'text': u'\\u5185'}, {u'boundingBox': u'3555,1097,65,59', u'text': u'\\u5bb9'}, {u'boundingBox': u'3624,1098,20,52', u'text': u'/'}]}, {u'boundingBox': u'3149,1203,155,67', u'words': [{u'boundingBox': u'3149,1205,73,64', u'text': u'\\u8354'}, {u'boundingBox': u'3217,1203,67,67', u'text': u'\\u540d'}, {u'boundingBox': u'3284,1231,20,36', u'text': u'\\uff1a'}]}, {u'boundingBox': u'3312,1342,238,70', u'words': [{u'boundingBox': u'3312,1342,70,70', u'text': u'\\u5e74'}, {u'boundingBox': u'3480,1344,70,64', u'text': u'\\u6708'}]}, {u'boundingBox': u'3112,1470,365,51', u'words': [{u'boundingBox': u'3112,1473,48,47', u'text': u'O'}, {u'boundingBox': u'3187,1471,53,50', u'text': u'\\u6536'}, {u'boundingBox': u'3242,1471,51,50', u'text': u'\\u4ef6'}, {u'boundingBox': u'3297,1470,49,50', u'text': u'\\u4eba'}, {u'boundingBox': u'3350,1470,50,51', u'text': u'\\u7b7e'}, {u'boundingBox': u'3404,1470,51,50', u'text': u'\\u6536'}, {u'boundingBox': u'3465,1493,12,22', u'text': u'\\uff1a'}]}]}, {u'boundingBox': u'2129,1417,237,281', u'lines': [{u'boundingBox': u'2129,1417,121,51', u'words': [{u'boundingBox': u'2129,1418,46,50', u'text': u'\\u90ae'}, {u'boundingBox': u'2181,1417,48,50', u'text': u'\\u8d39'}, {u'boundingBox': u'2242,1440,8,22', u'text': u'\\uff1a'}]}, {u'boundingBox': u'2130,1533,178,51', u'words': [{u'boundingBox': u'2130,1533,50,51', u'text': u'\\u5c01'}, {u'boundingBox': u'2186,1533,46,50', u'text': u'\\u88c5'}, {u'boundingBox': u'2239,1533,48,50', u'text': u'\\u8d39'}, {u'boundingBox': u'2299,1556,9,22', u'text': u'\\uff1a'}]}, {u'boundingBox': u'2131,1648,235,50', u'words': [{u'boundingBox': u'2131,1648,48,50', u'text': u'\\u8d39'}, {u'boundingBox': u'2189,1650,45,48', u'text': u'\\u7528'}, {u'boundingBox': u'2243,1648,49,50', u'text': u'\\u5408'}, {u'boundingBox': u'2296,1649,50,49', u'text': u'\\u8ba1'}, {u'boundingBox': u'2358,1671,8,23', u'text': u'\\uff1a'}]}]}, {u'boundingBox': u'2479,1432,52,150', u'lines': [{u'boundingBox': u'2479,1432,48,33', u'words': [{u'boundingBox': u'2479,1432,48,33', u'text': u'\\u5140'}]}, {u'boundingBox': u'2482,1549,49,33', u'words': [{u'boundingBox': u'2482,1549,49,33', u'text': u'\\u5140'}]}]}, {u'boundingBox': u'2598,1415,325,980', u'lines': [{u'boundingBox': u'2598,1415,184,51', u'words': [{u'boundingBox': u'2598,1415,51,50', u'text': u'\\u4fdd'}, {u'boundingBox': u'2657,1415,50,51', u'text': u'\\u4ef7'}, {u'boundingBox': u'2712,1415,48,50', u'text': u'\\u8d39'}, {u'boundingBox': u'2772,1437,10,23', u'text': u'\\uff1a'}]}, {u'boundingBox': u'2603,1531,232,51', u'words': [{u'boundingBox': u'2603,1532,49,50', u'text': u'\\u5176'}, {u'boundingBox': u'2657,1531,49,51', u'text': u'\\u4ed6'}, {u'boundingBox': u'2711,1531,49,51', u'text': u'\\u8d39'}, {u'boundingBox': u'2765,1533,45,48', u'text': u'\\u7528'}, {u'boundingBox': u'2826,1554,9,23', u'text': u'\\uff1a'}]}, {u'boundingBox': u'2612,1974,311,57', u'words': [{u'boundingBox': u'2612,1974,55,57', u'text': u'\\u56d7'}, {u'boundingBox': u'2707,1976,51,53', u'text': u'\\u6536'}, {u'boundingBox': u'2762,1976,52,52', u'text': u'\\u4ef6'}, {u'boundingBox': u'2817,1976,52,51', u'text': u'\\u4eba'}, {u'boundingBox': u'2873,1977,50,51', u'text': u'\\u4ed8'}]}, {u'boundingBox': u'2613,2069,140,57', u'words': [{u'boundingBox': u'2613,2069,56,57', u'text': u'\\u56d7'}, {u'boundingBox': u'2711,2074,42,48', u'text': u'\\u6708'}]}, {u'boundingBox': u'2615,2167,202,57', u'words': [{u'boundingBox': u'2615,2167,57,57', u'text': u'\\u56d7'}, {u'boundingBox': u'2712,2172,52,49', u'text': u'\\u73b0'}, {u'boundingBox': u'2766,2169,51,51', u'text': u'\\u91d1'}]}, {u'boundingBox': u'2662,2343,216,52', u'words': [{u'boundingBox': u'2662,2343,52,52', u'text': u'\\u6295'}, {u'boundingBox': u'2718,2343,50,51', u'text': u'\\u9012'}, {u'boundingBox': u'2774,2344,50,50', u'text': u'\\u4eba'}, {u'boundingBox': u'2829,2345,49,50', u'text': u'\\u5458'}]}]}, {u'boundingBox': u'3144,1566,238,555', u'lines': [{u'boundingBox': u'3144,1566,126,51', u'words': [{u'boundingBox': u'3144,1566,51,50', u'text': u'\\u7b7e'}, {u'boundingBox': u'3199,1566,46,51', u'text': u'\\u540d'}, {u'boundingBox': u'3260,1588,10,24', u'text': u'\\uff1a'}]}, {u'boundingBox': u'3148,1762,234,52', u'words': [{u'boundingBox': u'3148,1763,54,49', u'text': u'\\u8bc1'}, {u'boundingBox': u'3203,1762,51,52', u'text': u'\\u4ef6'}, {u'boundingBox': u'3258,1764,49,50', u'text': u'\\u53f7'}, {u'boundingBox': u'3311,1765,49,48', u'text': u'\\u7801'}, {u'boundingBox': u'3372,1785,10,23', u'text': u'\\uff1a'}]}, {u'boundingBox': u'3314,1913,49,52', u'words': [{u'boundingBox': u'3314,1913,49,52', u'text': u'\\u5e74'}]}, {u'boundingBox': u'3155,2067,123,54', u'words': [{u'boundingBox': u'3155,2068,50,53', u'text': u'\\u5907'}, {u'boundingBox': u'3209,2067,49,53', u'text': u'\\u6ce8'}, {u'boundingBox': u'3268,2091,10,23', u'text': u'\\uff1a'}]}]}, {u'boundingBox': u'3501,1914,43,49', u'lines': [{u'boundingBox': u'3501,1914,43,49', u'words': [{u'boundingBox': u'3501,1914,43,49', u'text': u'\\u6708'}]}]}, {u'boundingBox': u'3659,1346,59,617', u'lines': [{u'boundingBox': u'3659,1346,59,60', u'words': [{u'boundingBox': u'3659,1346,59,60', u'text': u'\\u65e5'}]}, {u'boundingBox': u'3679,1913,39,50', u'words': [{u'boundingBox': u'3679,1913,39,50', u'text': u'\\u65e5'}]}]}, {u'boundingBox': u'3824,1096,145,870', u'lines': [{u'boundingBox': u'3930,1096,39,41', u'words': [{u'boundingBox': u'3930,1096,39,41', u'text': u'\\u5b58'}]}, {u'boundingBox': u'3824,1339,75,67', u'words': [{u'boundingBox': u'3824,1339,75,67', u'text': u'\\u65f6'}]}, {u'boundingBox': u'3852,1912,54,54', u'words': [{u'boundingBox': u'3852,1912,54,54', u'text': u'\\u65f6'}]}]}, {u'boundingBox': u'997,2044,389,46', u'lines': [{u'boundingBox': u'997,2044,389,46', u'words': [{u'boundingBox': u'997,2044,43,46', u'text': u'\\u8ba1'}, {u'boundingBox': u'1042,2044,43,46', u'text': u'\\u8d39'}, {u'boundingBox': u'1087,2046,44,44', u'text': u'\\u91cd'}, {u'boundingBox': u'1132,2046,45,44', u'text': u'\\u91cf'}, {u'boundingBox': u'1184,2057,15,33', u'text': u'c'}, {u'boundingBox': u'1197,2057,28,32', u'text': u'\\u603b'}, {u'boundingBox': u'1227,2057,33,32', u'text': u'\\u91cd'}, {u'boundingBox': u'1260,2057,32,33', u'text': u'\\u91cf'}, {u'boundingBox': u'1309,2056,32,34', u'text': u'\\u5343'}, {u'boundingBox': u'1344,2056,42,34', u'text': u'\\u524b'}]}]}, {u'boundingBox': u'1513,2041,469,52', u'lines': [{u'boundingBox': u'1513,2041,469,52', u'words': [{u'boundingBox': u'1513,2043,47,48', u'text': u'\\u603b'}, {u'boundingBox': u'1566,2041,50,50', u'text': u'\\u4f53'}, {u'boundingBox': u'1619,2043,49,50', u'text': u'\\u79ef'}, {u'boundingBox': u'1741,2056,33,34', u'text': u'\\u957f'}, {u'boundingBox': u'1820,2061,16,27', u'text': u'x'}, {u'boundingBox': u'1845,2057,33,34', u'text': u'\\u5bbd'}, {u'boundingBox': u'1923,2062,17,26', u'text': u'x'}, {u'boundingBox': u'1950,2058,32,35', u'text': u'\\u9ad8'}]}]}, {u'boundingBox': u'910,2326,1151,55', u'lines': [{u'boundingBox': u'910,2326,1151,55', u'words': [{u'boundingBox': u'910,2327,43,42', u'text': u'\\u8bf7'}, {u'boundingBox': u'954,2326,40,43', u'text': u'\\u786e'}, {u'boundingBox': u'994,2327,43,42', u'text': u'\\u5b9a'}, {u'boundingBox': u'1041,2329,39,43', u'text': u'\\u5bc4'}, {u'boundingBox': u'1079,2330,44,43', u'text': u'\\u9012'}, {u'boundingBox': u'1126,2330,43,44', u'text': u'\\u7269'}, {u'boundingBox': u'1169,2334,41,40', u'text': u'\\u54c1'}, {u'boundingBox': u'1214,2332,40,43', u'text': u'\\u5353'}, {u'boundingBox': u'1261,2332,40,44', u'text': u'\\u4ef6'}, {u'boundingBox': u'1305,2332,43,44', u'text': u'\\u4ef7'}, {u'boundingBox': u'1351,2332,43,43', u'text': u'\\u503c'}, {u'boundingBox': u'1396,2332,45,42', u'text': u'\\u4e0d'}, {u'boundingBox': u'1439,2330,47,43', u'text': u'\\u8d85'}, {u'boundingBox': u'1485,2330,46,43', u'text': u'\\u8fc7'}, {u'boundingBox': u'1531,2335,24,33', u'text': u'5'}, {u'boundingBox': u'1554,2333,46,40', u'text': u'\\u4e07'}, {u'boundingBox': u'1600,2334,41,39', u'text': u'\\u5143'}, {u'boundingBox': u'1647,2360,10,18', u'text': u'\\uff0c'}, {u'boundingBox': u'1688,2333,45,44', u'text': u'\\u8d23'}, {u'boundingBox': u'1734,2334,44,42', u'text': u'\\u91cd'}, {u'boundingBox': u'1780,2334,44,44', u'text': u'\\u7269'}, {u'boundingBox': u'1824,2336,42,41', u'text': u'\\u54c1'}, {u'boundingBox': u'1870,2335,44,44', u'text': u'\\u52a1'}, {u'boundingBox': u'1915,2336,44,41', u'text': u'\\u5fc5'}, {u'boundingBox': u'1962,2335,42,45', u'text': u'\\u4fdd'}, {u'boundingBox': u'2008,2336,44,45', u'text': u'\\u4ef7'}, {u'boundingBox': u'2052,2367,9,12', u'text': u'\\uff0c'}]}]}, {u'boundingBox': u'2102,1762,433,632', u'lines': [{u'boundingBox': u'2131,1762,404,54', u'words': [{u'boundingBox': u'2131,1763,51,52', u'text': u'\\u6295'}, {u'boundingBox': u'2186,1763,51,51', u'text': u'\\u9012'}, {u'boundingBox': u'2242,1764,49,50', u'text': u'\\u5e94'}, {u'boundingBox': u'2297,1763,51,52', u'text': u'\\u6536'}, {u'boundingBox': u'2353,1762,49,54', u'text': u'\\u5bc4'}, {u'boundingBox': u'2407,1764,51,50', u'text': u'\\u9012'}, {u'boundingBox': u'2463,1764,49,51', u'text': u'\\u8d39'}, {u'boundingBox': u'2525,1787,10,23', u'text': u'\\uff1a'}]}, {u'boundingBox': u'2102,1878,311,52', u'words': [{u'boundingBox': u'2102,1879,47,49', u'text': u'0'}, {u'boundingBox': u'2180,1879,49,50', u'text': u'\\u4ed8'}, {u'boundingBox': u'2233,1879,52,50', u'text': u'\\u6b3e'}, {u'boundingBox': u'2288,1878,50,52', u'text': u'\\u65b9'}, {u'boundingBox': u'2342,1879,51,50', u'text': u'\\u5f0f'}, {u'boundingBox': u'2403,1902,10,23', u'text': u'\\uff1a'}]}, {u'boundingBox': u'2139,1973,308,56', u'words': [{u'boundingBox': u'2139,1973,55,56', u'text': u'\\u56d7'}, {u'boundingBox': u'2235,1976,49,51', u'text': u'\\u5bc4'}, {u'boundingBox': u'2288,1976,51,51', u'text': u'\\u4ef6'}, {u'boundingBox': u'2344,1976,49,51', u'text': u'\\u4eba'}, {u'boundingBox': u'2397,1976,50,52', u'text': u'\\u4ed8'}]}, {u'boundingBox': u'2139,2068,202,58', u'words': [{u'boundingBox': u'2139,2068,55,58', u'text': u'\\u56d7'}, {u'boundingBox': u'2234,2071,50,52', u'text': u'\\u5237'}, {u'boundingBox': u'2289,2071,52,51', u'text': u'\\u5361'}]}, {u'boundingBox': u'2140,2162,364,58', u'words': [{u'boundingBox': u'2140,2162,55,58', u'text': u'\\u56d7'}, {u'boundingBox': u'2236,2166,49,52', u'text': u'\\u7b2c'}, {u'boundingBox': u'2291,2171,50,44', u'text': u'\\u4e09'}, {u'boundingBox': u'2345,2166,50,54', u'text': u'\\u65b9'}, {u'boundingBox': u'2400,2166,50,53', u'text': u'\\u4ed8'}, {u'boundingBox': u'2455,2166,49,52', u'text': u'\\u8d39'}]}, {u'boundingBox': u'2104,2264,371,53', u'words': [{u'boundingBox': u'2104,2265,48,49', u'text': u'\\uff0e'}, {u'boundingBox': u'2185,2264,51,51', u'text': u'\\u63fd'}, {u'boundingBox': u'2240,2265,51,51', u'text': u'\\u6295'}, {u'boundingBox': u'2295,2268,49,49', u'text': u'\\u5458'}, {u'boundingBox': u'2350,2267,50,50', u'text': u'\\u4fe1'}, {u'boundingBox': u'2405,2266,50,50', u'text': u'\\u606f'}, {u'boundingBox': u'2467,2290,8,22', u'text': u'\\uff1a'}]}, {u'boundingBox': u'2142,2340,214,54', u'words': [{u'boundingBox': u'2142,2340,52,52', u'text': u'\\u6536'}, {u'boundingBox': u'2198,2340,49,54', u'text': u'\\u5bc4'}, {u'boundingBox': u'2253,2341,49,51', u'text': u'\\u4eba'}, {u'boundingBox': u'2307,2343,49,51', u'text': u'\\u5458'}]}]}, {u'boundingBox': u'124,2382,1557,228', u'lines': [{u'boundingBox': u'897,2382,753,51', u'words': [{u'boundingBox': u'897,2382,43,43', u'text': u'\\u672a'}, {u'boundingBox': u'944,2383,40,42', u'text': u'\\u4fdd'}, {u'boundingBox': u'988,2384,40,43', u'text': u'\\u4ef7'}, {u'boundingBox': u'1030,2385,42,43', u'text': u'\\u7269'}, {u'boundingBox': u'1071,2389,40,40', u'text': u'\\u54c1'}, {u'boundingBox': u'1115,2388,43,44', u'text': u'\\u7684'}, {u'boundingBox': u'1206,2390,40,42', u'text': u'\\u507f'}, {u'boundingBox': u'1249,2391,45,42', u'text': u'\\u8e93'}, {u'boundingBox': u'1292,2390,44,42', u'text': u'\\u4e3a'}, {u'boundingBox': u'1337,2391,46,41', u'text': u'\\u6240'}, {u'boundingBox': u'1386,2389,44,43', u'text': u'\\u4ed8'}, {u'boundingBox': u'1430,2388,46,44', u'text': u'\\u90ae'}, {u'boundingBox': u'1476,2388,43,43', u'text': u'\\u8d39'}, {u'boundingBox': u'1522,2387,42,44', u'text': u'\\u7684'}, {u'boundingBox': u'1566,2392,22,35', u'text': u'3'}, {u'boundingBox': u'1592,2387,41,45', u'text': u'\\u500d'}, {u'boundingBox': u'1637,2414,13,15', u'text': u'\\u3002'}]}, {u'boundingBox': u'124,2449,1557,64', u'words': [{u'boundingBox': u'124,2454,49,51', u'text': u'\\u4fdd'}, {u'boundingBox': u'178,2454,49,52', u'text': u'\\u4ef7'}, {u'boundingBox': u'238,2472,8,26', u'text': u'\\uff1a'}, {u'boundingBox': u'287,2449,55,56', u'text': u'\\u56d7'}, {u'boundingBox': u'349,2454,50,50', u'text': u'\\u662f'}, {u'boundingBox': u'430,2450,54,54', u'text': u'\\u56d7'}, {u'boundingBox': u'491,2457,48,47', u'text': u'\\u5426'}, {u'boundingBox': u'692,2455,48,51', u'text': u'\\u58f0'}, {u'boundingBox': u'747,2457,46,49', u'text': u'\\u660e'}, {u'boundingBox': u'798,2454,51,52', u'text': u'\\u4ef7'}, {u'boundingBox': u'852,2455,51,50', u'text': u'\\u503c'}, {u'boundingBox': u'913,2477,11,23', u'text': u'\\uff1a'}, {u'boundingBox': u'1011,2460,45,49', u'text': u'\\u4e07'}, {u'boundingBox': u'1138,2460,50,52', u'text': u'\\u4edf'}, {u'boundingBox': u'1270,2462,50,51', u'text': u'\\u4f70'}, {u'boundingBox': u'1405,2460,50,52', u'text': u'\\u62fe'}, {u'boundingBox': u'1541,2463,49,48', u'text': u'\\u5143'}, {u'boundingBox': u'1623,2460,14,51', u'text': u'\\uff08'}, {u'boundingBox': u'1648,2467,33,40', u'text': u'\\xa5'}]}, {u'boundingBox': u'888,2538,372,72', u'words': [{u'boundingBox': u'888,2538,66,66', u'text': u'\\u8bf7'}, {u'boundingBox': u'960,2541,56,63', u'text': u'\\u7528'}, {u'boundingBox': u'1028,2542,59,66', u'text': u'\\u529b'}, {u'boundingBox': u'1096,2544,64,65', u'text': u'\\u586b'}, {u'boundingBox': u'1168,2548,60,62', u'text': u'\\u5199'}, {u'boundingBox': u'1248,2553,12,52', u'text': u'\\uff01'}]}]}, {u'boundingBox': u'1990,2469,66,49', u'lines': [{u'boundingBox': u'1990,2469,66,49', u'words': [{u'boundingBox': u'1990,2470,48,48', u'text': u'\\u5143'}, {u'boundingBox': u'2042,2469,14,48', u'text': u'\\uff09'}]}]}, {u'boundingBox': u'3187,2440,712,82', u'lines': [{u'boundingBox': u'3187,2440,712,82', u'words': [{u'boundingBox': u'3187,2440,25,66', u'text': u'1'}, {u'boundingBox': u'3231,2440,42,67', u'text': u'0'}, {u'boundingBox': u'3302,2440,391,75', u'text': u'65495007'}, {u'boundingBox': u'3727,2448,45,68', u'text': u'5'}, {u'boundingBox': u'3801,2451,98,71', u'text': u'24'}]}]}], u'textAngle': 0.0, u'orientation': u'Right', u'language': u'zh-Hans'}\n",
      "None\n"
     ]
    }
   ],
   "source": [
    "# Load raw image file into memory\n",
    "pathToFileInDisk = r'/Users/h177954/Downloads/IMG_6431.JPG'\n",
    "with open(pathToFileInDisk, 'rb') as f:\n",
    "    data = f.read()\n",
    "\n",
    "# Computer Vision parameters\n",
    "params = {'handwriting' : 'true'}\n",
    "\n",
    "headers = dict()\n",
    "headers['Ocp-Apim-Subscription-Key'] = _key\n",
    "headers['Content-Type'] = 'application/octet-stream'\n",
    "\n",
    "json = None\n",
    "\n",
    "operationLocation = processRequest(json, data, headers, params)\n",
    "\n",
    "result = None\n",
    "if (operationLocation != None):\n",
    "    headers = {}\n",
    "    headers['Ocp-Apim-Subscription-Key'] = _key\n",
    "    while True:\n",
    "        time.sleep(1)\n",
    "        result = getOCRTextResult(operationLocation, headers)\n",
    "        if result['status'] == 'Succeeded' or result['status'] == 'Failed':\n",
    "            break\n",
    "\n",
    "# Load the original image, fetched from the URL\n",
    "if result is not None and result['status'] == 'Succeeded':\n",
    "    data8uint = np.fromstring(data, np.uint8)  # Convert string to an unsigned int array\n",
    "    img = cv2.cvtColor(cv2.imdecode(data8uint, cv2.IMREAD_COLOR), cv2.COLOR_BGR2RGB)\n",
    "    showResultOnImage(result, img)"
   ]
  },
  {
   "cell_type": "markdown",
   "metadata": {
    "deletable": true,
    "editable": true
   },
   "source": [
    "# Analysis of an image retrieved via URL"
   ]
  },
  {
   "cell_type": "code",
   "execution_count": 27,
   "metadata": {
    "collapsed": false,
    "deletable": true,
    "editable": true
   },
   "outputs": [
    {
     "name": "stdout",
     "output_type": "stream",
     "text": [
      "Error code: 200\n",
      "Message: {u'regions': [{u'boundingBox': u'28,36,480,62', u'lines': [{u'boundingBox': u'496,36,12,13', u'words': [{u'boundingBox': u'496,36,12,13', u'text': u'0'}]}, {u'boundingBox': u'60,37,75,15', u'words': [{u'boundingBox': u'60,37,75,15', u'text': u'EXPRESS'}]}, {u'boundingBox': u'80,54,54,15', u'words': [{u'boundingBox': u'80,54,13,15', u'text': u'\\u97ed'}, {u'boundingBox': u'119,55,15,14', u'text': u'\\u8fd0'}]}, {u'boundingBox': u'496,83,12,13', u'words': [{u'boundingBox': u'496,83,12,13', u'text': u'0'}]}, {u'boundingBox': u'28,84,238,14', u'words': [{u'boundingBox': u'28,84,15,8', u'text': u'\\u201c'}, {u'boundingBox': u'62,84,15,8', u'text': u'\\u201c'}, {u'boundingBox': u'78,84,16,8', u'text': u'\\u201c'}, {u'boundingBox': u'112,84,7,7', u'text': u'\\u3002'}, {u'boundingBox': u'121,84,15,7', u'text': u'\\u201c'}, {u'boundingBox': u'139,84,47,14', u'text': u'4008'}, {u'boundingBox': u'194,84,30,14', u'text': u'111'}, {u'boundingBox': u'235,84,7,14', u'text': u'1'}, {u'boundingBox': u'247,84,7,14', u'text': u'1'}, {u'boundingBox': u'259,84,7,14', u'text': u'1'}]}]}, {u'boundingBox': u'1,124,159,25', u'lines': [{u'boundingBox': u'1,124,159,11', u'words': [{u'boundingBox': u'1,124,12,11', u'text': u'O'}, {u'boundingBox': u'15,125,8,9', u'text': u'\\u755c'}, {u'boundingBox': u'25,125,9,9', u'text': u'\\u4ef6'}, {u'boundingBox': u'36,125,8,9', u'text': u'\\u4eba'}, {u'boundingBox': u'69,125,36,9', u'text': u'Shipper'}, {u'boundingBox': u'109,125,51,7', u'text': u'informatio'}]}, {u'boundingBox': u'6,141,40,8', u'words': [{u'boundingBox': u'6,141,8,8', u'text': u'\\u8317'}, {u'boundingBox': u'17,141,7,8', u'text': u'\\u6237'}, {u'boundingBox': u'27,141,9,8', u'text': u'0'}, {u'boundingBox': u'37,141,9,8', u'text': u'\\u9f77'}]}]}, {u'boundingBox': u'206,112,242,23', u'lines': [{u'boundingBox': u'206,112,59,7', u'words': [{u'boundingBox': u'206,112,5,7', u'text': u'8'}, {u'boundingBox': u'213,112,12,7', u'text': u'31'}, {u'boundingBox': u'239,112,4,7', u'text': u'1'}, {u'boundingBox': u'247,112,4,7', u'text': u'1'}, {u'boundingBox': u'254,112,4,7', u'text': u'1'}, {u'boundingBox': u'261,112,4,7', u'text': u'1'}]}, {u'boundingBox': u'317,123,131,12', u'words': [{u'boundingBox': u'317,123,12,12', u'text': u'9'}, {u'boundingBox': u'342,125,8,9', u'text': u'\\u52a1'}, {u'boundingBox': u'363,125,8,9', u'text': u'\\u751f'}, {u'boundingBox': u'378,125,45,9', u'text': u'Shipment'}, {u'boundingBox': u'426,125,22,9', u'text': u'Type'}]}]}, {u'boundingBox': u'521,63,112,149', u'lines': [{u'boundingBox': u'521,63,111,11', u'words': [{u'boundingBox': u'521,63,6,11', u'text': u'\\uff08'}, {u'boundingBox': u'527,63,5,11', u'text': u'\\uff09'}, {u'boundingBox': u'535,64,9,9', u'text': u'\\u5730'}, {u'boundingBox': u'556,64,8,8', u'text': u'\\u4ee3'}, {u'boundingBox': u'566,64,8,8', u'text': u'\\u9a55'}, {u'boundingBox': u'580,65,23,7', u'text': u'Arco'}, {u'boundingBox': u'614,67,5,5', u'text': u'0'}, {u'boundingBox': u'621,65,5,7', u'text': u'd'}, {u'boundingBox': u'628,67,4,5', u'text': u'c'}]}, {u'boundingBox': u'545,79,88,10', u'words': [{u'boundingBox': u'545,80,9,9', u'text': u'\\u5730'}, {u'boundingBox': u'558,80,5,7', u'text': u'0'}, {u'boundingBox': u'586,79,7,9', u'text': u'0'}, {u'boundingBox': u'595,79,9,9', u'text': u'\\u7684'}, {u'boundingBox': u'617,80,5,7', u'text': u'0'}, {u'boundingBox': u'623,81,10,6', u'text': u'\\u201c'}]}, {u'boundingBox': u'567,140,65,19', u'words': [{u'boundingBox': u'567,141,8,9', u'text': u'\\u53ef'}, {u'boundingBox': u'579,140,5,19', u'text': u'['}, {u'boundingBox': u'585,140,10,19', u'text': u'\\u4e8c'}, {u'boundingBox': u'596,140,3,19', u'text': u']'}, {u'boundingBox': u'602,141,9,9', u'text': u'\\u6536'}, {u'boundingBox': u'612,141,9,9', u'text': u'\\u65b9'}, {u'boundingBox': u'623,141,9,9', u'text': u'\\u5fd6'}]}, {u'boundingBox': u'545,152,29,8', u'words': [{u'boundingBox': u'545,152,4,7', u'text': u'\\u5b53'}, {u'boundingBox': u'549,153,7,6', u'text': u'\\u679e'}, {u'boundingBox': u'557,154,4,6', u'text': u'0'}, {u'boundingBox': u'562,154,8,6', u'text': u'\\u4ee5'}, {u'boundingBox': u'571,154,3,5', u'text': u'\\uff0c'}]}, {u'boundingBox': u'534,203,96,9', u'words': [{u'boundingBox': u'534,203,9,9', u'text': u'\\u4e09'}, {u'boundingBox': u'544,203,9,9', u'text': u'\\u65b9'}, {u'boundingBox': u'555,203,8,9', u'text': u'\\u5fd6'}, {u'boundingBox': u'586,203,8,9', u'text': u'\\u533a'}, {u'boundingBox': u'619,203,5,7', u'text': u'\\uff08'}, {u'boundingBox': u'625,205,5,5', u'text': u'\\u3002'}]}]}, {u'boundingBox': u'636,124,72,26', u'lines': [{u'boundingBox': u'636,124,33,10', u'words': [{u'boundingBox': u'636,124,33,10', u'text': u'\\u2022:harge'}]}, {u'boundingBox': u'678,141,30,9', u'words': [{u'boundingBox': u'678,141,9,9', u'text': u'\\u4e09'}, {u'boundingBox': u'689,141,8,9', u'text': u'\\u65b9'}, {u'boundingBox': u'700,141,8,9', u'text': u'\\u5fd6'}]}]}, {u'boundingBox': u'29,148,426,70', u'lines': [{u'boundingBox': u'42,148,182,19', u'words': [{u'boundingBox': u'42,160,4,5', u'text': u'\\u3002'}, {u'boundingBox': u'47,148,17,19', u'text': u'\\u767e'}, {u'boundingBox': u'68,148,18,19', u'text': u'\\u5e74'}, {u'boundingBox': u'89,148,17,19', u'text': u'\\u6cf8'}, {u'boundingBox': u'107,165,5,2', u'text': u'\\u201c'}, {u'boundingBox': u'133,148,16,19', u'text': u'\\u8001'}, {u'boundingBox': u'151,148,17,19', u'text': u'\\u7592'}, {u'boundingBox': u'178,148,11,5', u'text': u'\\u4e00'}, {u'boundingBox': u'217,162,7,5', u'text': u'\\u3001'}]}, {u'boundingBox': u'319,157,35,15', u'words': [{u'boundingBox': u'319,157,13,13', u'text': u'\\u56d7'}, {u'boundingBox': u'335,157,16,15', u'text': u'\\u965b'}, {u'boundingBox': u'351,166,3,5', u'text': u'\\u3002'}]}, {u'boundingBox': u'317,176,138,12', u'words': [{u'boundingBox': u'317,176,12,12', u'text': u'0'}, {u'boundingBox': u'397,178,6,7', u'text': u'\\u81ea'}, {u'boundingBox': u'411,178,5,7', u'text': u'd'}, {u'boundingBox': u'417,178,9,7', u'text': u'\\u5c71'}, {u'boundingBox': u'427,180,12,5', u'text': u'on'}, {u'boundingBox': u'440,180,4,5', u'text': u'\\u5201'}, {u'boundingBox': u'446,178,9,7', u'text': u'\\u5de7'}]}, {u'boundingBox': u'385,192,61,8', u'words': [{u'boundingBox': u'385,192,7,8', u'text': u'\\u5341'}, {u'boundingBox': u'404,193,21,6', u'text': u'000'}, {u'boundingBox': u'427,193,3,5', u'text': u\"'\"}, {u'boundingBox': u'442,193,4,5', u'text': u\"'\"}]}, {u'boundingBox': u'29,201,67,17', u'words': [{u'boundingBox': u'29,212,7,5', u'text': u'\\u201c'}, {u'boundingBox': u'46,202,15,16', u'text': u'\\u5929'}, {u'boundingBox': u'64,202,16,16', u'text': u'\\u6d25'}, {u'boundingBox': u'83,201,13,16', u'text': u'\\u5e02'}]}, {u'boundingBox': u'319,201,25,14', u'words': [{u'boundingBox': u'319,201,14,14', u'text': u'\\u56d7'}, {u'boundingBox': u'336,201,8,8', u'text': u'\\u4ee3'}]}]}, {u'boundingBox': u'167,247,195,50', u'lines': [{u'boundingBox': u'167,247,166,26', u'words': [{u'boundingBox': u'167,247,26,14', u'text': u'\"40'}, {u'boundingBox': u'210,247,18,14', u'text': u'63'}, {u'boundingBox': u'231,248,16,13', u'text': u'\\u5de7'}, {u'boundingBox': u'247,248,11,13', u'text': u'3'}, {u'boundingBox': u'292,257,16,15', u'text': u'\\u7d46'}, {u'boundingBox': u'306,265,5,7', u'text': u'\\u3002'}, {u'boundingBox': u'319,259,14,14', u'text': u'\\u56d7'}]}, {u'boundingBox': u'319,283,43,14', u'words': [{u'boundingBox': u'319,283,2,13', u'text': u'['}, {u'boundingBox': u'321,283,10,14', u'text': u'\\u4e8c'}, {u'boundingBox': u'331,283,2,13', u'text': u']'}, {u'boundingBox': u'345,283,8,7', u'text': u'\\u5d06'}, {u'boundingBox': u'354,283,8,7', u'text': u'\\u953c'}]}]}, {u'boundingBox': u'1,328,196,220', u'lines': [{u'boundingBox': u'6,328,39,9', u'words': [{u'boundingBox': u'6,328,8,9', u'text': u'\\u6559'}, {u'boundingBox': u'16,328,9,9', u'text': u'\\u4f94'}, {u'boundingBox': u'27,328,8,9', u'text': u'\\u516c'}, {u'boundingBox': u'38,328,7,9', u'text': u'\\u7684'}]}, {u'boundingBox': u'91,433,106,9', u'words': [{u'boundingBox': u'91,433,45,9', u'text': u'Shipment'}, {u'boundingBox': u'140,433,57,8', u'text': u'Information'}]}, {u'boundingBox': u'1,501,53,11', u'words': [{u'boundingBox': u'1,501,11,11', u'text': u'0'}, {u'boundingBox': u'16,503,8,7', u'text': u'\\u5904'}, {u'boundingBox': u'26,502,9,9', u'text': u'\\u804c'}, {u'boundingBox': u'47,502,7,8', u'text': u'0'}]}, {u'boundingBox': u'54,524,39,9', u'words': [{u'boundingBox': u'54,525,22,7', u'text': u'Cm*'}, {u'boundingBox': u'82,524,11,9', u'text': u'\\u8035'}]}, {u'boundingBox': u'132,524,49,8', u'words': [{u'boundingBox': u'132,525,5,7', u'text': u'\\uff08'}, {u'boundingBox': u'139,525,8,6', u'text': u'm'}, {u'boundingBox': u'149,525,6,6', u'text': u'X'}, {u'boundingBox': u'170,524,6,7', u'text': u'\\u4ee5'}, {u'boundingBox': u'179,525,2,6', u'text': u'\\uff1a'}]}, {u'boundingBox': u'76,540,70,8', u'words': [{u'boundingBox': u'76,541,23,7', u'text': u'b000'}, {u'boundingBox': u'124,540,4,8', u'text': u'\\u51ab'}, {u'boundingBox': u'129,540,11,8', u'text': u'\\u95d0'}, {u'boundingBox': u'141,540,5,8', u'text': u'0'}]}]}, {u'boundingBox': u'380,259,132,205', u'lines': [{u'boundingBox': u'403,259,26,14', u'words': [{u'boundingBox': u'403,259,14,14', u'text': u'\\u56d7'}, {u'boundingBox': u'419,263,10,7', u'text': u'\\u201c'}]}, {u'boundingBox': u'380,392,59,14', u'words': [{u'boundingBox': u'380,393,2,13', u'text': u'\\u300a'}, {u'boundingBox': u'382,392,12,14', u'text': u'\\u4e8c'}, {u'boundingBox': u'397,392,4,6', u'text': u'\\u51ab'}, {u'boundingBox': u'432,392,7,8', u'text': u'\\u8fd8'}]}, {u'boundingBox': u'380,409,86,14', u'words': [{u'boundingBox': u'380,410,2,13', u'text': u'\\u300a'}, {u'boundingBox': u'383,410,8,13', u'text': u'\\u4e8c'}, {u'boundingBox': u'392,410,9,13', u'text': u'\\u5c38'}, {u'boundingBox': u'423,409,7,8', u'text': u'\\u4e2a'}, {u'boundingBox': u'441,410,7,7', u'text': u'\\u5316'}, {u'boundingBox': u'449,409,8,8', u'text': u'0'}, {u'boundingBox': u'459,409,7,8', u'text': u'\\u821e'}]}, {u'boundingBox': u'383,428,129,8', u'words': [{u'boundingBox': u'383,429,7,7', u'text': u'\\uff0c'}, {u'boundingBox': u'392,429,7,7', u'text': u'\\u8f91'}, {u'boundingBox': u'410,428,7,8', u'text': u'\\u897f'}, {u'boundingBox': u'418,429,13,7', u'text': u'00'}, {u'boundingBox': u'432,429,5,6', u'text': u'\\u540e'}, {u'boundingBox': u'444,430,5,5', u'text': u'd'}, {u'boundingBox': u'459,429,1,6', u'text': u'\\u300a'}, {u'boundingBox': u'461,431,8,4', u'text': u'\\u201c'}, {u'boundingBox': u'474,429,7,7', u'text': u'\\uff0c'}, {u'boundingBox': u'482,429,7,7', u'text': u'\\u5230'}, {u'boundingBox': u'491,429,5,7', u'text': u'\\uff08'}, {u'boundingBox': u'497,429,3,6', u'text': u'h'}, {u'boundingBox': u'501,430,6,5', u'text': u'\\u548c'}, {u'boundingBox': u'508,431,4,5', u'text': u'0'}]}, {u'boundingBox': u'401,456,73,8', u'words': [{u'boundingBox': u'401,456,7,8', u'text': u'0'}, {u'boundingBox': u'418,456,4,7', u'text': u'\\uff0c'}, {u'boundingBox': u'422,457,8,6', u'text': u'\\u3001'}, {u'boundingBox': u'455,457,7,6', u'text': u'01'}, {u'boundingBox': u'465,457,9,6', u'text': u'\\u664c'}]}]}, {u'boundingBox': u'535,339,143,73', u'lines': [{u'boundingBox': u'551,339,43,8', u'words': [{u'boundingBox': u'551,339,8,8', u'text': u'\\u7684'}, {u'boundingBox': u'560,342,7,2', u'text': u'-'}, {u'boundingBox': u'578,339,7,7', u'text': u'\\u5185'}, {u'boundingBox': u'587,339,7,8', u'text': u'0'}]}, {u'boundingBox': u'535,403,143,9', u'words': [{u'boundingBox': u'535,403,9,8', u'text': u'\\u6536'}, {u'boundingBox': u'546,403,8,8', u'text': u'\\u4ef6'}, {u'boundingBox': u'557,403,8,8', u'text': u'\\u4eba'}, {u'boundingBox': u'589,403,5,7', u'text': u'\\uff08'}, {u'boundingBox': u'595,404,5,6', u'text': u'0'}, {u'boundingBox': u'601,405,9,5', u'text': u'\\u4e24'}, {u'boundingBox': u'619,405,5,5', u'text': u'n'}, {u'boundingBox': u'625,404,5,6', u'text': u'\\u8d75'}, {u'boundingBox': u'645,403,33,9', u'text': u'Signatu'}]}]}, {u'boundingBox': u'319,393,53,87', u'lines': [{u'boundingBox': u'319,393,37,15', u'words': [{u'boundingBox': u'319,394,14,14', u'text': u'\\u56d7'}, {u'boundingBox': u'345,393,11,15', u'text': u'\\u5df2'}]}, {u'boundingBox': u'321,429,41,7', u'words': [{u'boundingBox': u'321,429,7,7', u'text': u'\\u9570'}, {u'boundingBox': u'330,429,7,7', u'text': u'\\u6134'}, {u'boundingBox': u'339,430,5,5', u'text': u'V'}, {u'boundingBox': u'344,431,3,5', u'text': u'\\u5b6c'}, {u'boundingBox': u'348,430,6,6', u'text': u'\\u51f5'}, {u'boundingBox': u'355,431,7,4', u'text': u'\\u201d'}]}, {u'boundingBox': u'323,470,49,10', u'words': [{u'boundingBox': u'323,470,6,10', u'text': u'\\u5b6c'}, {u'boundingBox': u'342,470,8,8', u'text': u'm'}, {u'boundingBox': u'355,470,17,7', u'text': u'Cha'}]}]}, {u'boundingBox': u'722,454,41,104', u'lines': [{u'boundingBox': u'722,454,34,17', u'words': [{u'boundingBox': u'722,455,16,16', u'text': u'\\u5b8c'}, {u'boundingBox': u'739,454,17,17', u'text': u'\\u597d'}]}, {u'boundingBox': u'722,473,41,17', u'words': [{u'boundingBox': u'722,473,16,17', u'text': u'\\u8f6c'}, {u'boundingBox': u'740,473,15,17', u'text': u'\\u5bc4'}, {u'boundingBox': u'758,484,5,4', u'text': u'\\u3002'}]}, {u'boundingBox': u'722,549,33,9', u'words': [{u'boundingBox': u'722,549,8,9', u'text': u'u'}, {u'boundingBox': u'732,549,8,9', u'text': u'n'}, {u'boundingBox': u'742,556,2,2', u'text': u'\\uff0e'}, {u'boundingBox': u'747,549,8,9', u'text': u'0'}]}]}], u'textAngle': 0.0, u'orientation': u'Up', u'language': u'zh-Hans'}\n"
     ]
    }
   ],
   "source": [
    "# URL direction to image\n",
    "urlImage = 'https://www.secpulse.com/upload/201406/08033954edc732dc9afda2246e3e564b3844f4c3.png'\n",
    "\n",
    "# Computer Vision parameters\n",
    "params = { 'handwriting' : 'true'}\n",
    "\n",
    "headers = dict()\n",
    "headers['Ocp-Apim-Subscription-Key'] = _key\n",
    "headers['Content-Type'] = 'application/json'\n",
    "\n",
    "json = { 'url': urlImage }\n",
    "data = None\n",
    "\n",
    "result = None\n",
    "operationLocation = processRequest(json, data, headers, params)\n",
    "if (operationLocation != None):\n",
    "    headers = {}\n",
    "    headers['Ocp-Apim-Subscription-Key'] = _key\n",
    "    while True:\n",
    "        time.sleep(1)\n",
    "        result = getOCRTextResult(operationLocation, headers)\n",
    "        if result['status'] == 'Succeeded' or result['status'] == 'Failed':\n",
    "            break\n",
    "\n",
    "if result is not None and result['status'] == 'Succeeded':\n",
    "    # Load the original image, fetched from the URL\n",
    "    arr = np.asarray( bytearray( requests.get( urlImage ).content ), dtype=np.uint8 )\n",
    "    img = cv2.cvtColor( cv2.imdecode( arr, -1 ), cv2.COLOR_BGR2RGB )\n",
    "    showResultOnImage( result, img )"
   ]
  },
  {
   "cell_type": "code",
   "execution_count": null,
   "metadata": {
    "collapsed": true,
    "deletable": true,
    "editable": true
   },
   "outputs": [],
   "source": []
  }
 ],
 "metadata": {
  "anaconda-cloud": {},
  "kernelspec": {
   "display_name": "Python 2",
   "language": "python",
   "name": "python2"
  },
  "language_info": {
   "codemirror_mode": {
    "name": "ipython",
    "version": 2
   },
   "file_extension": ".py",
   "mimetype": "text/x-python",
   "name": "python",
   "nbconvert_exporter": "python",
   "pygments_lexer": "ipython2",
   "version": "2.7.13"
  }
 },
 "nbformat": 4,
 "nbformat_minor": 0
}
